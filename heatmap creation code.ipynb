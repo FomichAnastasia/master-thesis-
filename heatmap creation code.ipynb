{
 "cells": [
  {
   "cell_type": "code",
   "execution_count": 1,
   "metadata": {},
   "outputs": [],
   "source": [
    "import pandas as pd\n",
    "import numpy as np\n",
    "import csv\n",
    "import matplotlib.pyplot as plt\n",
    "import keplergl\n",
    "import base64\n",
    "import seaborn as sns"
   ]
  },
  {
   "cell_type": "code",
   "execution_count": 2,
   "metadata": {},
   "outputs": [],
   "source": [
    "tracks_ready=pd.read_csv('C:/Users/Asus/Downloads/tracks_ready.csv',sep=',')"
   ]
  },
  {
   "cell_type": "code",
   "execution_count": 3,
   "metadata": {},
   "outputs": [],
   "source": [
    "tracks_ready=tracks_ready[['id','final_part_of_day_in_word','top5_avr','time_spent']]"
   ]
  },
  {
   "cell_type": "code",
   "execution_count": 4,
   "metadata": {},
   "outputs": [],
   "source": [
    "df=pd.DataFrame(columns=['id','final_part_of_day_in_word','top5_avr'])\n",
    "df1=pd.DataFrame(np.unique(tracks_ready['id']),columns=['id'])\n",
    "df1['final_part_of_day_in_word']=''\n",
    "df1['top5_avr']=''\n",
    "\n",
    "for p in np.unique(tracks_ready['final_part_of_day_in_word']):\n",
    "    for t in np.unique(tracks_ready['top5_avr']):\n",
    "        df1['final_part_of_day_in_word']=p\n",
    "        df1['top5_avr']=t\n",
    "        df=df.append(df1)"
   ]
  },
  {
   "cell_type": "code",
   "execution_count": 5,
   "metadata": {},
   "outputs": [
    {
     "data": {
      "text/plain": [
       "1137802"
      ]
     },
     "execution_count": 5,
     "metadata": {},
     "output_type": "execute_result"
    }
   ],
   "source": [
    "len(tracks_ready)"
   ]
  },
  {
   "cell_type": "code",
   "execution_count": 6,
   "metadata": {},
   "outputs": [
    {
     "data": {
      "text/plain": [
       "1850503"
      ]
     },
     "execution_count": 6,
     "metadata": {},
     "output_type": "execute_result"
    }
   ],
   "source": [
    "df['additional']=1\n",
    "tracks_ready=pd.merge(tracks_ready,df,how='outer',on=['id','final_part_of_day_in_word','top5_avr'])\n",
    "len(tracks_ready)"
   ]
  },
  {
   "cell_type": "code",
   "execution_count": 7,
   "metadata": {},
   "outputs": [
    {
     "data": {
      "text/plain": [
       "<Figure size 432x288 with 0 Axes>"
      ]
     },
     "metadata": {},
     "output_type": "display_data"
    }
   ],
   "source": [
    "from IPython.display import clear_output\n",
    "for id in np.unique(tracks_ready['id'])[20881:]:\n",
    "    sns.heatmap(pd.pivot_table(tracks_ready[tracks_ready['id']==id],index='final_part_of_day_in_word',columns='top5_avr',values='time_spent',aggfunc=sum)) \n",
    "    plt.savefig('D:/Учеба/2 курс мага/диплом/'+str(id)+'.png', format='png')\n",
    "    plt.clf()\n",
    "    #print(i/len(np.unique(tracks_ready['id']))*100)\n",
    "    \n",
    "    #clear_output(wait=True)"
   ]
  },
  {
   "cell_type": "code",
   "execution_count": null,
   "metadata": {},
   "outputs": [],
   "source": []
  }
 ],
 "metadata": {
  "kernelspec": {
   "display_name": "Python 3",
   "language": "python",
   "name": "python3"
  },
  "language_info": {
   "codemirror_mode": {
    "name": "ipython",
    "version": 3
   },
   "file_extension": ".py",
   "mimetype": "text/x-python",
   "name": "python",
   "nbconvert_exporter": "python",
   "pygments_lexer": "ipython3",
   "version": "3.7.9"
  }
 },
 "nbformat": 4,
 "nbformat_minor": 2
}
