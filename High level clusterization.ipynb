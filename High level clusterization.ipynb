{
 "cells": [
  {
   "cell_type": "code",
   "execution_count": 9,
   "metadata": {},
   "outputs": [],
   "source": [
    "from sklearn.preprocessing import StandardScaler\n",
    "from sklearn.decomposition import PCA\n",
    "import pandas as pd\n",
    "import numpy as np\n",
    "import matplotlib.pyplot as plt"
   ]
  },
  {
   "cell_type": "code",
   "execution_count": 2,
   "metadata": {},
   "outputs": [],
   "source": [
    "tracks_ready=pd.read_csv('C:/Users/Asus/Downloads/tracks_ready.csv',sep=',')"
   ]
  },
  {
   "cell_type": "code",
   "execution_count": 9,
   "metadata": {},
   "outputs": [],
   "source": [
    "features=['centroid_lon',\n",
    " 'centroid_lat',\n",
    " 'time_spent',\n",
    " 'distance',\n",
    " 'age',\n",
    " 'car_owners',\n",
    " 'carsharing_user',\n",
    " 'not_citizen_rf',\n",
    " 'gender',\n",
    " 'healthy_food_inter',\n",
    " 'income',\n",
    " 'public_trnsprt_user',\n",
    " 'pharmacies_inter',\n",
    " 'beauty_salon_inter',\n",
    " 'elite_sports_inter',\n",
    " 'sprtswr_ftwr_inter',\n",
    " 'sprt_good_inter',\n",
    " 'trvl_rus',\n",
    " 'trvl_abrd',\n",
    " 'sprt_fit_inter',\n",
    " 'hunting_fishing_inter',\n",
    " 'fashion_inter',\n",
    " 'coffee_inter',\n",
    " 'med_serv_inter',\n",
    " 'education_inter',\n",
    " 'delivery_inter',\n",
    " 'markets_inter',\n",
    " 'no_children',\n",
    " 'in spb',\n",
    " 'dist from center',\n",
    " 'IWD',\n",
    " '/finansyi/',\n",
    " '/proizvodstvo-i-postavki/',\n",
    " '/reklama/',\n",
    " '/sport-i-fitnes/',\n",
    " '/spravochno-informatsionnyie-sistemyi/',\n",
    " '/sredstva-massovoj-informatsii/',\n",
    " '/stroitelstvo-i-remont/',\n",
    " '/telekommunikatsii-i-svyaz/',\n",
    " '/tovaryi-dlya-detej/',\n",
    " '/transport/',\n",
    " '/uslugi/',\n",
    " 'RE-service',\n",
    " 'additional education',\n",
    " 'agzs or azs',\n",
    " 'apteki',\n",
    " 'avto_buy',\n",
    " 'avto_service',\n",
    " 'avto_shop',\n",
    " 'bezopasnost',\n",
    " 'biznes',\n",
    " 'cemetery',\n",
    " 'clothes',\n",
    " 'dom-i-interer',\n",
    " 'eda-i-napitki',\n",
    " 'furniture',\n",
    " 'gai-gibdd',\n",
    " 'gosudarstvo-i-obschestvo',\n",
    " 'hobby',\n",
    " 'hospital',\n",
    " 'hospitality',\n",
    " 'internet-service',\n",
    " 'kindergarten',\n",
    " 'kino',\n",
    " 'krasota-i-zdorove',\n",
    " 'library',\n",
    " 'med-service',\n",
    " 'med-shop',\n",
    " 'metro',\n",
    " 'museum',\n",
    " 'nochnye-kluby',\n",
    " 'otdyih-i-razvlecheniya',\n",
    " 'park',\n",
    " 'pozharnye-chasti',\n",
    " 'punkt-vydachi',\n",
    " 'religion',\n",
    " 'rynki',\n",
    " 'safety-shop',\n",
    " 'school',\n",
    " 'shop',\n",
    " 'sluzhby-ekstrennogo-vyzova',\n",
    " 'sluzhby-spaseniia',\n",
    " 'social housing',\n",
    " 'sport',\n",
    " 'sport shop',\n",
    " 'supermarket',\n",
    " 'tech',\n",
    " 'theater',\n",
    " 'torgovye-centry',\n",
    " 'tourism services',\n",
    " 'tovaryi-dlya-detej',\n",
    " 'university',\n",
    " 'upravlenie-obrazovaniem',\n",
    " 'vet clinics',\n",
    " 'vet service',\n",
    " 'vet-shop',\n",
    " 'time_spent_at_all',\n",
    " 'top5',\n",
    " 'part_of_day_s',\n",
    " 'part_of_day_e',\n",
    " 'part_of_day_s_len',\n",
    " 'part_of_day_e_len',\n",
    " 'level_of_visit%',\n",
    " 'top5_fr',\n",
    " 'number of visits of hex',\n",
    " 'time_spent_avr',\n",
    " 'top5_avr',\n",
    " 'num of days appear',\n",
    " 'num of days appear fr',\n",
    " 'number of visits of hex per day',\n",
    " 'time_spent_avr_h',\n",
    " 'weekend',\n",
    " 'morning',\n",
    " 'night',\n",
    " 'whole day',\n",
    " 'whole day end',\n",
    " 'working hours',\n",
    " 'evening']"
   ]
  },
  {
   "cell_type": "code",
   "execution_count": 5,
   "metadata": {},
   "outputs": [],
   "source": [
    "features=['centroid_lon',\n",
    " 'centroid_lat',\n",
    " 'time_spent',\n",
    " 'distance',\n",
    " 'age',\n",
    " 'car_owners',\n",
    " 'carsharing_user',\n",
    " 'not_citizen_rf',\n",
    " 'gender',\n",
    " 'healthy_food_inter',\n",
    " 'income',\n",
    " 'public_trnsprt_user',\n",
    " 'pharmacies_inter',\n",
    " 'beauty_salon_inter',\n",
    " 'elite_sports_inter',\n",
    " 'sprtswr_ftwr_inter',\n",
    " 'sprt_good_inter',\n",
    " 'trvl_rus',\n",
    " 'trvl_abrd',\n",
    " 'sprt_fit_inter',\n",
    " 'hunting_fishing_inter',\n",
    " 'fashion_inter',\n",
    " 'coffee_inter',\n",
    " 'med_serv_inter',\n",
    " 'education_inter',\n",
    " 'delivery_inter',\n",
    " 'markets_inter',\n",
    " 'no_children']"
   ]
  },
  {
   "cell_type": "code",
   "execution_count": 6,
   "metadata": {},
   "outputs": [],
   "source": [
    "x = tracks_ready.loc[:, features].values"
   ]
  },
  {
   "cell_type": "code",
   "execution_count": 7,
   "metadata": {},
   "outputs": [
    {
     "data": {
      "text/plain": [
       "(1137802, 28)"
      ]
     },
     "execution_count": 7,
     "metadata": {},
     "output_type": "execute_result"
    }
   ],
   "source": [
    "x.shape"
   ]
  },
  {
   "cell_type": "code",
   "execution_count": 8,
   "metadata": {},
   "outputs": [],
   "source": [
    "x = StandardScaler().fit_transform(x)\n",
    "\n",
    "pca = PCA(n_components=2)\n",
    "\n",
    "principalComponents = pca.fit_transform(x)\n",
    "\n",
    "principalDf = pd.DataFrame(data = principalComponents\n",
    "             , columns = ['principal component 1', 'principal component 2'])"
   ]
  },
  {
   "cell_type": "code",
   "execution_count": 23,
   "metadata": {},
   "outputs": [
    {
     "name": "stdout",
     "output_type": "stream",
     "text": [
      "1\n",
      "2\n",
      "3\n",
      "4\n",
      "5\n",
      "6\n",
      "7\n"
     ]
    }
   ],
   "source": [
    "import matplotlib.pyplot as plt\n",
    "from sklearn.cluster import KMeans\n",
    "from sklearn import metrics\n",
    "from scipy.spatial.distance import cdist\n",
    "import numpy as np\n",
    "\n",
    "# Create a list to hold the distortions (inertia) for each number of clusters\n",
    "distortions = []\n",
    "\n",
    "# Generate some sample data (replace this with your actual dataset)\n",
    "# X = ...\n",
    "\n",
    "# Fit KMeans and calculate the distortions for a range of number of clusters\n",
    "for k in range(1, 8):\n",
    "    kmeanModel = KMeans(n_clusters=k).fit(principalDf.values)\n",
    "    kmeanModel.fit(principalDf.values)\n",
    "    distortions.append(sum(np.min(cdist(principalDf.values, kmeanModel.cluster_centers_, 'euclidean'), axis=1)) / principalDf.values.shape[0])\n",
    "    print(k)\n",
    "\n"
   ]
  },
  {
   "cell_type": "code",
   "execution_count": 24,
   "metadata": {},
   "outputs": [
    {
     "data": {
      "image/png": "[encoded data removed]",
      "text/plain": [
       "<Figure size 432x288 with 1 Axes>"
      ]
     },
     "metadata": {
      "needs_background": "light"
     },
     "output_type": "display_data"
    }
   ],
   "source": [
    "plt.plot(range(1, 8), distortions, 'bx-')\n",
    "plt.xlabel('Number of Clusters (k)')\n",
    "plt.ylabel('Distortion')\n",
    "plt.title('The Elbow Method showing the optimal k')\n",
    "plt.show() "
   ]
  },
  {
   "cell_type": "code",
   "execution_count": 25,
   "metadata": {},
   "outputs": [
    {
     "data": {
      "text/plain": [
       "KMeans(n_clusters=5)"
      ]
     },
     "execution_count": 25,
     "metadata": {},
     "output_type": "execute_result"
    }
   ],
   "source": [
    "from sklearn.cluster import KMeans\n",
    "kmeans = KMeans(n_clusters=5)\n",
    "kmeans.fit(principalDf.values)\n"
   ]
  },
  {
   "cell_type": "code",
   "execution_count": 27,
   "metadata": {},
   "outputs": [
    {
     "data": {
      "text/plain": [
       "1137802"
      ]
     },
     "execution_count": 27,
     "metadata": {},
     "output_type": "execute_result"
    }
   ],
   "source": [
    "len(kmeans.labels_)"
   ]
  },
  {
   "cell_type": "code",
   "execution_count": 28,
   "metadata": {},
   "outputs": [],
   "source": [
    "principalDf['cluster']=kmeans.labels_"
   ]
  },
  {
   "cell_type": "code",
   "execution_count": 29,
   "metadata": {},
   "outputs": [
    {
     "data": {
      "image/png": "[encoded data removed]",
      "text/plain": [
       "<Figure size 576x576 with 1 Axes>"
      ]
     },
     "metadata": {
      "needs_background": "light"
     },
     "output_type": "display_data"
    }
   ],
   "source": [
    "fig = plt.figure(figsize = (8,8))\n",
    "ax = fig.add_subplot(1,1,1) \n",
    "ax.set_xlabel('Principal Component 1', fontsize = 15)\n",
    "ax.set_ylabel('Principal Component 2', fontsize = 15)\n",
    "ax.set_title('2 component PCA', fontsize = 20)\n",
    "\n",
    "targets = np.unique(kmeans.labels_)\n",
    "for target in zip(targets):\n",
    "    indicesToKeep = principalDf['cluster'] == target\n",
    "    ax.scatter(principalDf.loc[indicesToKeep, 'principal component 1']\n",
    "               , principalDf.loc[indicesToKeep, 'principal component 2']\n",
    "               , s = 50)\n",
    "ax.legend(targets)\n",
    "ax.grid()"
   ]
  },
  {
   "cell_type": "code",
   "execution_count": null,
   "metadata": {},
   "outputs": [],
   "source": []
  }
 ],
 "metadata": {
  "kernelspec": {
   "display_name": "Python 3",
   "language": "python",
   "name": "python3"
  },
  "language_info": {
   "codemirror_mode": {
    "name": "ipython",
    "version": 3
   },
   "file_extension": ".py",
   "mimetype": "text/x-python",
   "name": "python",
   "nbconvert_exporter": "python",
   "pygments_lexer": "ipython3",
   "version": "3.7.9"
  }
 },
 "nbformat": 4,
 "nbformat_minor": 2
}
