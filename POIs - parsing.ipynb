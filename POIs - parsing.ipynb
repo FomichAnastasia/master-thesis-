{
 "cells": [
  {
   "cell_type": "code",
   "execution_count": 3,
   "metadata": {},
   "outputs": [],
   "source": [
    "import urllib\n",
    "import json\n",
    "import numpy as np\n",
    "import csv\n",
    "import math\n",
    "import h3\n",
    "import plotly.express as px\n",
    "import pandas as pd\n"
   ]
  },
  {
   "cell_type": "markdown",
   "metadata": {},
   "source": [
    "Spb coordinates (square\n",
    ")"
   ]
  },
  {
   "cell_type": "code",
   "execution_count": 14,
   "metadata": {},
   "outputs": [],
   "source": [
    "lat_min = 59.804842\n",
    "lat_max = 60.093279\n",
    "lon_min = 30.094747\n",
    "lon_max = 30.609159"
   ]
  },
  {
   "cell_type": "code",
   "execution_count": 15,
   "metadata": {},
   "outputs": [],
   "source": [
    "def get_coords(subdivs, lat, lon):\n",
    "\treturn { \"lat\": lat_min + (lat_max - lat_min) / subdivs * lat, \"lon\": lon_min + (lon_max - lon_min) / subdivs * lon }"
   ]
  },
  {
   "cell_type": "code",
   "execution_count": 16,
   "metadata": {},
   "outputs": [],
   "source": [
    "def get_bounds(subdivs, lat_a, lon_a, lat_b, lon_b):\n",
    "\ta = get_coords(subdivs, lat_a, lon_a)\n",
    "\tb = get_coords(subdivs, lat_b, lon_b)\n",
    "\treturn str(a[\"lon\"]) + \",\" + str(a[\"lat\"]) + \",\" + str(b[\"lon\"]) + \",\" + str(b[\"lat\"])"
   ]
  },
  {
   "cell_type": "code",
   "execution_count": 17,
   "metadata": {},
   "outputs": [],
   "source": [
    "def load(cat, subdivs, lat_a, lon_a):\n",
    "\tlat_b = lat_a + 1\n",
    "\tlon_b = lon_a + 1\n",
    "\tbounds = get_bounds(subdivs, lat_a, lon_a, lat_b, lon_b)\n",
    "\turl = \"https://spb.spravker.ru/api/map/?category=\" + str(cat) + \"&bounds=\" + bounds + \"&callback=id_170868754597686677116\"\n",
    "\tdata = urllib.request.urlopen(url).read().decode('utf-8')[25:-1]\n",
    "\treturn json.loads(data)"
   ]
  },
  {
   "cell_type": "markdown",
   "metadata": {},
   "source": [
    "Create list with all available categories, subcategories, id of subcategories and number of intities in subcategory"
   ]
  },
  {
   "cell_type": "code",
   "execution_count": null,
   "metadata": {},
   "outputs": [],
   "source": [
    "def find_all_codes():\n",
    "    import urllib.request\n",
    "\n",
    "    f = urllib.request.urlopen(\"https://spb.spravker.ru/\").read()\n",
    "    f=str(f.decode('utf-8'))\n",
    "    f=(f.split('<h3 class=\"category-widget__title\">'))\n",
    "    f=f[1:]\n",
    "    cat_code=[]\n",
    "    for index in f:\n",
    "        cat_code.append(index.split('a href=')[1].split('title')[0].replace('\"','').replace(' ',''))\n",
    "    return cat_code\n",
    "\n",
    "sub_cat_code=[]\n",
    "cat_code=[]\n",
    "number_of_items=[]\n",
    "for cat_code_i in find_all_codes():\n",
    "    f = urllib.request.urlopen(\"https://spb.spravker.ru\"+cat_code_i).read()\n",
    "    f=str(f.decode('utf-8'))\n",
    "    f=(f.split('<li class=\"list-count__item\">'))\n",
    "    f=f[1:]\n",
    "    for index in f:\n",
    "        sub_cat_code.append(index.split('a href=')[1].split('title')[0].replace('\"','').replace(' ',''))\n",
    "        cat_code.append(cat_code_i)\n",
    "        number_of_items.append(index.split('data-count=\"')[1].split('\"')[0])\n",
    "\n",
    "\n",
    "def find_cat_num(sub_cat_code_num):\n",
    "\tf = urllib.request.urlopen(\"https://spb.spravker.ru\"+sub_cat_code_num).read()\n",
    "\tf=str(f.decode('utf-8'))\n",
    "\treturn f.split('data-category=')[1].split('\\n')[0].replace('\"','')\n",
    "\n",
    "sub_cat_num=[]\n",
    "for index in sub_cat_code:\n",
    "\tcat_num = find_cat_num(index)\n",
    "\tsub_cat_num.append(cat_num)\n",
    "\tprint(index, cat_num)\n",
    "     \n",
    "\n",
    "import pandas as pd\n",
    "categories=pd.DataFrame(cat_code,columns=['cat_code'])\n",
    "categories['sub_cat_code']=sub_cat_code\n",
    "categories['sub_cat_code_num']=sub_cat_num\n",
    "categories['sub_cat_code_count']=number_of_items\n",
    "#categories.to_csv('C:/Users/Administrator/Desktop/categories.csv',sep=';',index=False)"
   ]
  },
  {
   "cell_type": "markdown",
   "metadata": {},
   "source": [
    "Parcing"
   ]
  },
  {
   "cell_type": "code",
   "execution_count": 92,
   "metadata": {},
   "outputs": [
    {
     "name": "stdout",
     "output_type": "stream",
     "text": [
      "category /avto/\n",
      "subcat /agzs/\n",
      "\t 3 subdivs\n",
      "\t 134\n",
      "\t 232\n",
      "\t 296\n",
      "subcat /azs/\n",
      "\t 4 subdivs\n",
      "\t 575\n",
      "\t 849\n",
      "\t 1154\n",
      "\t 1268\n",
      "subcat /abrazivnaia-polirovka-kuzova/\n",
      "\t 5 subdivs\n",
      "\t 1544\n",
      "\t 1908\n",
      "\t 2367\n",
      "\t 2800\n",
      "\t 2975\n",
      "subcat /avariinoe-otkliuchenie-signalizatsii/\n",
      "\t 3 subdivs\n",
      "\t 3147\n",
      "\t 3384\n",
      "\t 3471\n",
      "subcat /avtoaksessuary/\n",
      "\t 7 subdivs\n",
      "\t 3771\n",
      "\t 4344\n",
      "\t 4952\n",
      "\t 5675\n",
      "\t 6228\n",
      "\t 6553\n",
      "\t 6687\n",
      "subcat /avtoakustika-1/\n",
      "\t 3 subdivs\n",
      "\t 6874\n",
      "\t 7137\n",
      "\t 7246\n",
      "subcat /avtoatele/\n",
      "\t 4 subdivs\n",
      "\t 7495\n",
      "\t 7909\n",
      "\t 8344\n",
      "\t 8462\n",
      "subcat /avtoauktsiony/\n",
      "\t 2 subdivs\n",
      "\t 8552\n",
      "\t 8611\n",
      "subcat /avtodrom/\n",
      "\t 1 subdivs\n",
      "\t 8672\n",
      "subcat /avtozapchasti/\n",
      "\t 11 subdivs\n",
      "\t 9257\n",
      "\t 9955\n",
      "\t 10912\n",
      "\t 11870\n",
      "\t 12478\n",
      "\t 13153\n",
      "\t 13840\n",
      "\t 14516\n",
      "\t 15034\n",
      "\t 15329\n",
      "\t 15509\n",
      "subcat /avtozapchasti-audi/\n",
      "\t 4 subdivs\n",
      "\t 15741\n",
      "\t 16092\n",
      "\t 16337\n",
      "\t 16464\n",
      "subcat /avtozapchasti-bmw/\n",
      "\t 4 subdivs\n",
      "\t 16685\n",
      "\t 17009\n",
      "\t 17237\n",
      "\t 17352\n",
      "subcat /avtozapchasti-changfeng/\n",
      "\t 3 subdivs\n",
      "\t 17496\n",
      "\t 17603\n",
      "\t 17658\n",
      "subcat /avtozapchasti-chery/\n",
      "\t 3 subdivs\n",
      "\t 17882\n",
      "\t 18064\n",
      "\t 18156\n",
      "subcat /avtozapchasti-chevrolet/\n",
      "\t 4 subdivs\n",
      "\t 18388\n",
      "\t 18712\n",
      "\t 18942\n",
      "\t 19066\n",
      "subcat /avtozapchasti-citroen/\n",
      "\t 4 subdivs\n",
      "\t 19279\n",
      "\t 19578\n",
      "\t 19781\n",
      "\t 19887\n",
      "subcat /avtozapchasti-daf/\n",
      "\t 3 subdivs\n",
      "\t 20089\n",
      "\t 20222\n",
      "\t 20287\n",
      "subcat /avtozapchasti-daewoo/\n",
      "\t 4 subdivs\n",
      "\t 20503\n",
      "\t 20811\n",
      "\t 21014\n",
      "\t 21127\n",
      "subcat /avtozapchasti-datsun/\n",
      "\t 3 subdivs\n",
      "\t 21317\n",
      "\t 21495\n",
      "\t 21575\n",
      "subcat /avtozapchasti-dongfeng/\n",
      "\t 3 subdivs\n",
      "\t 21781\n",
      "\t 21940\n",
      "\t 22031\n",
      "subcat /avtozapchasti-fiat/\n",
      "\t 3 subdivs\n",
      "\t 22240\n",
      "\t 22401\n",
      "\t 22476\n",
      "subcat /avtozapchasti-ford/\n",
      "\t 3 subdivs\n",
      "\t 22679\n",
      "\t 22851\n",
      "\t 22938\n",
      "subcat /avtozapchasti-foton/\n",
      "\t 3 subdivs\n",
      "\t 23108\n",
      "\t 23241\n",
      "\t 23300\n",
      "subcat /avtozapchasti-geely/\n",
      "\t 3 subdivs\n",
      "\t 23501\n",
      "\t 23669\n",
      "\t 23758\n",
      "subcat /avtozapchasti-honda/\n",
      "\t 4 subdivs\n",
      "\t 23979\n",
      "\t 24283\n",
      "\t 24508\n",
      "\t 24620\n",
      "subcat /avtozapchasti-hyundai/\n",
      "\t 4 subdivs\n",
      "\t 24871\n",
      "\t 25209\n",
      "\t 25452\n",
      "\t 25580\n",
      "subcat /avtozapchasti-iveco/\n",
      "\t 3 subdivs\n",
      "\t 25822\n",
      "\t 25980\n",
      "\t 26064\n",
      "subcat /avtozapchasti-isuzu/\n",
      "\t 3 subdivs\n",
      "\t 26294\n",
      "\t 26474\n",
      "\t 26555\n",
      "subcat /avtozapchasti-kia/\n",
      "\t 4 subdivs\n",
      "\t 26793\n",
      "\t 27126\n",
      "\t 27361\n",
      "\t 27488\n",
      "subcat /avtozapchasti-land-rover-i-jaguar/\n",
      "\t 3 subdivs\n",
      "\t 27728\n",
      "\t 27939\n",
      "\t 28031\n",
      "subcat /avtozapchasti-lexus/\n",
      "\t 4 subdivs\n",
      "\t 28240\n",
      "\t 28542\n",
      "\t 28755\n",
      "\t 28856\n",
      "subcat /avtozapchasti-lifan/\n",
      "\t 2 subdivs\n",
      "\t 29023\n",
      "\t 29126\n",
      "subcat /avtozapchasti-mazda/\n",
      "\t 4 subdivs\n",
      "\t 29342\n",
      "\t 29655\n",
      "\t 29877\n",
      "\t 29990\n",
      "subcat /avtozapchasti-mercedes-benz/\n",
      "\t 4 subdivs\n",
      "\t 30220\n",
      "\t 30508\n",
      "\t 30713\n",
      "\t 30819\n",
      "subcat /avtozapchasti-mitsubishi/\n",
      "\t 4 subdivs\n",
      "\t 31046\n",
      "\t 31361\n",
      "\t 31590\n",
      "\t 31709\n",
      "subcat /avtozapchasti-nissan/\n",
      "\t 1 subdivs\n",
      "\t 31709\n",
      "subcat /avtozapchasti-opel/\n",
      "\t 4 subdivs\n",
      "\t 31927\n",
      "\t 32243\n",
      "\t 32454\n",
      "\t 32566\n",
      "subcat /avtozapchasti-peugeot/\n",
      "\t 4 subdivs\n",
      "\t 32787\n",
      "\t 33096\n",
      "\t 33304\n",
      "\t 33410\n",
      "subcat /avtozapchasti-porsche/\n",
      "\t 1 subdivs\n",
      "\t 33411\n",
      "subcat /avtozapchasti-renault/\n",
      "\t 4 subdivs\n",
      "\t 33662\n",
      "\t 34001\n",
      "\t 34232\n",
      "\t 34360\n",
      "subcat /avtozapchasti-scania/\n",
      "\t 3 subdivs\n",
      "\t 34566\n",
      "\t 34699\n",
      "\t 34763\n",
      "subcat /avtozapchasti-skoda/\n",
      "\t 4 subdivs\n",
      "\t 34981\n",
      "\t 35296\n",
      "\t 35519\n",
      "\t 35634\n",
      "subcat /avtozapchasti-ssangyong/\n",
      "\t 4 subdivs\n",
      "\t 35837\n",
      "\t 36124\n",
      "\t 36317\n",
      "\t 36425\n",
      "subcat /avtozapchasti-subaru/\n",
      "\t 4 subdivs\n",
      "\t 36638\n",
      "\t 36930\n",
      "\t 37137\n",
      "\t 37246\n",
      "subcat /avtozapchasti-suzuki/\n",
      "\t 4 subdivs\n",
      "\t 37461\n",
      "\t 37758\n",
      "\t 37963\n",
      "\t 38071\n",
      "subcat /avtozapchasti-toyota/\n",
      "\t 3 subdivs\n",
      "\t 38298\n",
      "\t 38499\n",
      "\t 38598\n",
      "subcat /avtozapchasti-volkswagen/\n",
      "\t 4 subdivs\n",
      "\t 38837\n",
      "\t 39185\n",
      "\t 39438\n",
      "\t 39561\n",
      "subcat /avtozapchasti-volvo/\n",
      "\t 4 subdivs\n",
      "\t 39821\n",
      "\t 40140\n",
      "\t 40351\n",
      "\t 40477\n",
      "subcat /avtozapchasti-vaz/\n",
      "\t 3 subdivs\n",
      "\t 40641\n",
      "\t 40769\n",
      "\t 40832\n",
      "subcat /avtozapchasti-gaz/\n",
      "\t 2 subdivs\n",
      "\t 40994\n",
      "\t 41076\n",
      "subcat /avtozapchasti-zil/\n",
      "\t 2 subdivs\n",
      "\t 41198\n",
      "\t 41259\n",
      "subcat /avtozapchasti-kamaz/\n",
      "\t 3 subdivs\n",
      "\t 41435\n",
      "\t 41553\n",
      "\t 41607\n",
      "subcat /avtozapchasti-maz/\n",
      "\t 3 subdivs\n",
      "\t 41761\n",
      "\t 41869\n",
      "\t 41918\n",
      "subcat /avtozapchasti-tagaz/\n",
      "\t 3 subdivs\n",
      "\t 42090\n",
      "\t 42226\n",
      "\t 42293\n",
      "subcat /avtozapchasti-uaz/\n",
      "\t 2 subdivs\n",
      "\t 42445\n",
      "\t 42529\n",
      "subcat /avtoklubyi/\n",
      "\t 2 subdivs\n",
      "\t 42659\n",
      "\t 42740\n",
      "subcat /avtokosmetika-i-avtokhimiia/\n",
      "\t 5 subdivs\n",
      "\t 42990\n",
      "\t 43432\n",
      "\t 43966\n",
      "\t 44271\n",
      "\t 44381\n",
      "subcat /avtolombardy/\n",
      "\t 3 subdivs\n",
      "\t 44544\n",
      "\t 44809\n",
      "\t 44892\n",
      "subcat /avtomasla/\n",
      "\t 4 subdivs\n",
      "\t 45051\n",
      "\t 45338\n",
      "\t 45534\n",
      "\t 45644\n",
      "subcat /avtomaticheskie-moiki/\n",
      "\t 3 subdivs\n",
      "\t 45774\n",
      "\t 45941\n",
      "\t 46038\n",
      "subcat /avtomobili-kia-v-lizing/\n",
      "\t 1 subdivs\n",
      "\t 46066\n",
      "subcat /avtomobili-mercedes-benz-v-lizing/\n",
      "\t 1 subdivs\n",
      "\t 46093\n",
      "subcat /avtomobili-toyota-v-lizing/\n",
      "\t 1 subdivs\n",
      "\t 46121\n",
      "subcat /avtomobili-kamaz-v-lizing/\n",
      "\t 1 subdivs\n",
      "\t 46145\n",
      "subcat /avtoakustika/\n",
      "\t 4 subdivs\n",
      "\t 46307\n",
      "\t 46561\n",
      "\t 46784\n",
      "\t 46862\n",
      "subcat /avtomobilnaia-shumoizoliatsiia/\n",
      "\t 2 subdivs\n",
      "\t 47036\n",
      "\t 47159\n",
      "subcat /avtomobilnye-diski-i-shiny/\n",
      "\t 7 subdivs\n",
      "\t 47518\n",
      "\t 48008\n",
      "\t 48564\n",
      "\t 49265\n",
      "\t 49807\n",
      "\t 50085\n",
      "\t 50235\n",
      "subcat /avtomobilnye-kraski/\n",
      "\t 3 subdivs\n",
      "\t 50394\n",
      "\t 50603\n",
      "\t 50667\n",
      "subcat /avtokresla/\n",
      "\t 2 subdivs\n",
      "\t 50849\n",
      "\t 50974\n",
      "subcat /avtootopiteli/\n",
      "\t 7 subdivs\n",
      "\t 51418\n",
      "\t 51967\n",
      "\t 52576\n",
      "\t 53140\n",
      "\t 53765\n",
      "\t 54010\n",
      "\t 54257\n",
      "subcat /avtomobilnye-takhografy/\n",
      "\t 1 subdivs\n",
      "\t 54343\n",
      "subcat /avtomoiki/\n",
      "\t 8 subdivs\n",
      "\t 54721\n",
      "\t 55228\n",
      "\t 55923\n",
      "\t 56452\n",
      "\t 57089\n",
      "\t 57646\n",
      "\t 57945\n",
      "\t 58167\n",
      "subcat /avtorazbor-audi/\n",
      "\t 1 subdivs\n",
      "\t 58231\n",
      "subcat /avtorazbor-bmw/\n",
      "\t 1 subdivs\n",
      "\t 58304\n",
      "subcat /avtorazbor-cadillac/\n",
      "\t 1 subdivs\n",
      "\t 58329\n",
      "subcat /avtorazbor-changan/\n",
      "\t 1 subdivs\n",
      "\t 58343\n",
      "subcat /avtorazbor-changfeng/\n",
      "\t 1 subdivs\n",
      "\t 58357\n",
      "subcat /avtorazbor-chery/\n",
      "\t 1 subdivs\n",
      "\t 58379\n",
      "subcat /avtorazbor-chevrolet/\n",
      "\t 1 subdivs\n",
      "\t 58434\n",
      "subcat /avtorazbor-citroen/\n",
      "\t 1 subdivs\n",
      "\t 58486\n",
      "subcat /avtorazbor-daewoo/\n",
      "\t 1 subdivs\n",
      "\t 58535\n",
      "subcat /avtorazbor-fiat/\n",
      "\t 1 subdivs\n",
      "\t 58568\n",
      "subcat /avtorazbor-ford/\n",
      "\t 1 subdivs\n",
      "\t 58635\n",
      "subcat /avtorazbor-geely/\n",
      "\t 1 subdivs\n",
      "\t 58656\n",
      "subcat /avtorazbor-honda/\n",
      "\t 1 subdivs\n",
      "\t 58714\n",
      "subcat /avtorazbor-hyundai/\n",
      "\t 1 subdivs\n",
      "\t 58772\n",
      "subcat /avtorazbor-kia/\n",
      "\t 1 subdivs\n",
      "\t 58827\n",
      "subcat /avtorazbor-lifan/\n",
      "\t 1 subdivs\n",
      "\t 58849\n",
      "subcat /avtorazbor-mazda/\n",
      "\t 1 subdivs\n",
      "\t 58905\n",
      "subcat /avtorazbor-mercedes/\n",
      "\t 2 subdivs\n",
      "\t 58957\n",
      "\t 58980\n",
      "subcat /avtorazbor-mitsubishi/\n",
      "\t 1 subdivs\n",
      "\t 59038\n",
      "subcat /avtorazbor-nissan/\n",
      "\t 1 subdivs\n",
      "\t 59097\n",
      "subcat /avtorazbor-opel/\n",
      "\t 1 subdivs\n",
      "\t 59154\n",
      "subcat /avtorazbor-peugeot/\n",
      "\t 1 subdivs\n",
      "\t 59209\n",
      "subcat /avtorazbor-porsche/\n",
      "\t 1 subdivs\n",
      "\t 59241\n",
      "subcat /avtorazbor-skoda/\n",
      "\t 1 subdivs\n",
      "\t 59296\n",
      "subcat /avtorazbor-subaru/\n",
      "\t 1 subdivs\n",
      "\t 59348\n",
      "subcat /avtorazbor-suzuki/\n",
      "\t 1 subdivs\n",
      "\t 59401\n",
      "subcat /avtorazbor-toyota/\n",
      "\t 1 subdivs\n",
      "\t 59461\n",
      "subcat /avtorazbor-volkswagen/\n",
      "\t 1 subdivs\n",
      "\t 59528\n",
      "subcat /avtorazbor-volvo/\n",
      "\t 1 subdivs\n",
      "\t 59589\n",
      "subcat /avtorazbor-gaz/\n",
      "\t 1 subdivs\n",
      "\t 59609\n",
      "subcat /avtorazbor-uaz/\n",
      "\t 1 subdivs\n",
      "\t 59625\n",
      "subcat /avtorazbor-gruzovykh-avtomobilei/\n",
      "\t 1 subdivs\n",
      "\t 59663\n",
      "subcat /avtorazbor-inomarok/\n",
      "\t 2 subdivs\n",
      "\t 59721\n",
      "\t 59750\n",
      "subcat /avtorazbor-kitaiskikh-avtomobilei/\n",
      "\t 1 subdivs\n",
      "\t 59803\n",
      "subcat /avtorazbor-koreiskikh-avtomobilei/\n",
      "\t 1 subdivs\n",
      "\t 59860\n",
      "subcat /avtorazbor-iaponskikh-avtomobilei/\n",
      "\t 1 subdivs\n",
      "\t 59929\n",
      "subcat /avtorazborki/\n",
      "\t 3 subdivs\n",
      "\t 60185\n",
      "\t 60455\n",
      "\t 60552\n",
      "subcat /avtorazborki-vaz/\n",
      "\t 1 subdivs\n",
      "\t 60575\n",
      "subcat /avtorazbory-great-wall/\n",
      "\t 1 subdivs\n",
      "\t 60594\n",
      "subcat /avtorynki/\n",
      "\t 3 subdivs\n",
      "\t 60713\n",
      "\t 60902\n",
      "\t 60977\n",
      "subcat /avtosalony/\n",
      "\t 6 subdivs\n",
      "\t 61330\n",
      "\t 61835\n",
      "\t 62309\n",
      "\t 63075\n",
      "\t 63358\n",
      "\t 63524\n",
      "subcat /avtosalony-avtomobilei-s-probegom/\n",
      "\t 3 subdivs\n",
      "\t 63740\n",
      "\t 64038\n",
      "\t 64163\n",
      "subcat /avtosalony-kommercheskogo-transporta/\n",
      "\t 3 subdivs\n",
      "\t 64312\n",
      "\t 64472\n",
      "\t 64546\n",
      "subcat /avtosalony-s-treid-in/\n",
      "\t 5 subdivs\n",
      "\t 64798\n",
      "\t 65109\n",
      "\t 65457\n",
      "\t 65791\n",
      "\t 65906\n",
      "subcat /avtoservis-dlia-amerikanskikh-avtomobilei/\n",
      "\t 2 subdivs\n",
      "\t 66009\n",
      "\t 66128\n",
      "subcat /avtoservis-dlia-evropeiskikh-avtomobilei/\n",
      "\t 2 subdivs\n",
      "\t 66292\n",
      "\t 66433\n",
      "subcat /avtoservis-koreiskikh-avtomobilei/\n",
      "\t 7 subdivs\n",
      "\t 66791\n",
      "\t 67352\n",
      "\t 67945\n",
      "\t 68498\n",
      "\t 69106\n",
      "\t 69372\n",
      "\t 69607\n",
      "subcat /avtoservis-otechestvennykh-avtomobilei/\n",
      "\t 8 subdivs\n",
      "\t 70021\n",
      "\t 70549\n",
      "\t 71223\n",
      "\t 71699\n",
      "\t 72244\n",
      "\t 72751\n",
      "\t 73095\n",
      "\t 73333\n",
      "subcat /avtoservisy-acura/\n",
      "\t 5 subdivs\n",
      "\t 73535\n",
      "\t 73957\n",
      "\t 74303\n",
      "\t 74588\n",
      "\t 74730\n",
      "subcat /avtoservisy-alfa-romeo/\n",
      "\t 5 subdivs\n",
      "\t 74929\n",
      "\t 75345\n",
      "\t 75693\n",
      "\t 75964\n",
      "\t 76098\n",
      "subcat /avtoservisy-audi/\n",
      "\t 6 subdivs\n",
      "\t 76417\n",
      "\t 76973\n",
      "\t 77491\n",
      "\t 78110\n",
      "\t 78384\n",
      "\t 78602\n",
      "subcat /avtoservisy-avia/\n",
      "\t 1 subdivs\n",
      "\t 78602\n",
      "subcat /avtoservisy-bmw/\n",
      "\t 6 subdivs\n",
      "\t 78904\n",
      "\t 79458\n",
      "\t 79973\n",
      "\t 80605\n",
      "\t 80881\n",
      "\t 81090\n",
      "subcat /avtoservisy-baw/\n",
      "\t 2 subdivs\n",
      "\t 81246\n",
      "\t 81369\n",
      "subcat /avtoservisy-bentley/\n",
      "\t 4 subdivs\n",
      "\t 81594\n",
      "\t 81998\n",
      "\t 82366\n",
      "\t 82514\n",
      "subcat /avtoservisy-brilliance/\n",
      "\t 2 subdivs\n",
      "\t 82669\n",
      "\t 82797\n",
      "subcat /avtoservisy-bugatti/\n",
      "\t 4 subdivs\n",
      "\t 82986\n",
      "\t 83360\n",
      "\t 83692\n",
      "\t 83826\n",
      "subcat /avtoservisy-byd/\n",
      "\t 4 subdivs\n",
      "\t 84057\n",
      "\t 84426\n",
      "\t 84754\n",
      "\t 84899\n",
      "subcat /avtoservisy-cfmoto/\n",
      "\t 2 subdivs\n",
      "\t 85044\n",
      "\t 85153\n",
      "subcat /avtoservisy-chance/\n",
      "\t 1 subdivs\n",
      "\t 85153\n",
      "subcat /avtoservisy-changan/\n",
      "\t 4 subdivs\n",
      "\t 85341\n",
      "\t 85659\n",
      "\t 85919\n",
      "\t 86021\n",
      "subcat /avtoservisy-changfeng/\n",
      "\t 3 subdivs\n",
      "\t 86265\n",
      "\t 86566\n",
      "\t 86686\n",
      "subcat /avtoservisy-chery/\n",
      "\t 5 subdivs\n",
      "\t 86903\n",
      "\t 87323\n",
      "\t 87667\n",
      "\t 87950\n",
      "\t 88101\n",
      "subcat /avtoservisy-chevrolet/\n",
      "\t 6 subdivs\n",
      "\t 88407\n",
      "\t 88957\n",
      "\t 89438\n",
      "\t 90025\n",
      "\t 90298\n",
      "\t 90509\n",
      "subcat /avtoservisy-chrysler/\n",
      "\t 5 subdivs\n",
      "\t 90721\n",
      "\t 91143\n",
      "\t 91493\n",
      "\t 91780\n",
      "\t 91922\n",
      "subcat /avtoservisy-citroen/\n",
      "\t 6 subdivs\n",
      "\t 92216\n",
      "\t 92763\n",
      "\t 93242\n",
      "\t 93818\n",
      "\t 94081\n",
      "\t 94290\n",
      "subcat /avtoservisy-daf/\n",
      "\t 2 subdivs\n",
      "\t 94452\n",
      "\t 94574\n",
      "subcat /avtoservisy-daewoo/\n",
      "\t 3 subdivs\n",
      "\t 94750\n",
      "\t 94932\n",
      "\t 95028\n",
      "subcat /avtoservisy-daihatsu/\n",
      "\t 4 subdivs\n",
      "\t 95260\n",
      "\t 95637\n",
      "\t 95986\n",
      "\t 96130\n",
      "subcat /avtoservisy-daimler/\n",
      "\t 4 subdivs\n",
      "\t 96325\n",
      "\t 96671\n",
      "\t 96986\n",
      "\t 97103\n",
      "subcat /avtoservisy-dodge/\n",
      "\t 5 subdivs\n",
      "\t 97310\n",
      "\t 97715\n",
      "\t 98069\n",
      "\t 98350\n",
      "\t 98483\n",
      "subcat /avtoservisy-exeed/\n",
      "\t 3 subdivs\n",
      "\t 98709\n",
      "\t 98955\n",
      "\t 99061\n",
      "subcat /avtoservisy-faw/\n",
      "\t 4 subdivs\n",
      "\t 99274\n",
      "\t 99622\n",
      "\t 99932\n",
      "\t 100057\n",
      "subcat /avtoservisy-ferrari/\n",
      "\t 4 subdivs\n",
      "\t 100253\n",
      "\t 100613\n",
      "\t 100943\n",
      "\t 101068\n",
      "subcat /avtoservisy-fiat/\n",
      "\t 5 subdivs\n",
      "\t 101291\n",
      "\t 101736\n",
      "\t 102089\n",
      "\t 102397\n",
      "\t 102552\n",
      "subcat /avtoservisy-ford/\n",
      "\t 6 subdivs\n",
      "\t 102868\n",
      "\t 103424\n",
      "\t 103938\n",
      "\t 104555\n",
      "\t 104830\n",
      "\t 105056\n",
      "subcat /avtoservisy-foton/\n",
      "\t 2 subdivs\n",
      "\t 105210\n",
      "\t 105331\n",
      "subcat /avtoservisy-freightliner/\n",
      "\t 1 subdivs\n",
      "\t 105331\n",
      "subcat /avtoservisy-geely/\n",
      "\t 5 subdivs\n",
      "\t 105534\n",
      "\t 105933\n",
      "\t 106257\n",
      "\t 106527\n",
      "\t 106659\n",
      "subcat /avtoservisy-general-motors/\n",
      "\t 6 subdivs\n",
      "\t 106967\n",
      "\t 107522\n",
      "\t 108008\n",
      "\t 108606\n",
      "\t 108882\n",
      "\t 109096\n",
      "subcat /avtoservisy-great-wall/\n",
      "\t 5 subdivs\n",
      "\t 109292\n",
      "\t 109675\n",
      "\t 109981\n",
      "\t 110228\n",
      "\t 110342\n",
      "subcat /avtoservisy-hafei/\n",
      "\t 4 subdivs\n",
      "\t 110515\n",
      "\t 110822\n",
      "\t 111069\n",
      "\t 111171\n",
      "subcat /avtoservisy-haval/\n",
      "\t 5 subdivs\n",
      "\t 111385\n",
      "\t 111758\n",
      "\t 112063\n",
      "\t 112313\n",
      "\t 112427\n",
      "subcat /avtoservisy-hidromek/\n",
      "\t 1 subdivs\n",
      "\t 112427\n",
      "subcat /avtoservisy-honda/\n",
      "\t 6 subdivs\n",
      "\t 112718\n",
      "\t 113273\n",
      "\t 113757\n",
      "\t 114343\n",
      "\t 114613\n",
      "\t 114821\n",
      "subcat /avtoservisy-hummer/\n",
      "\t 3 subdivs\n",
      "\t 114927\n",
      "\t 115068\n",
      "\t 115125\n",
      "subcat /avtoservisy-hyundai/\n",
      "\t 6 subdivs\n",
      "\t 115454\n",
      "\t 116010\n",
      "\t 116526\n",
      "\t 117137\n",
      "\t 117424\n",
      "\t 117659\n",
      "subcat /avtoservisy-hyundai-genesis/\n",
      "\t 4 subdivs\n",
      "\t 117852\n",
      "\t 118187\n",
      "\t 118463\n",
      "\t 118595\n",
      "subcat /avtoservisy-iveco/\n",
      "\t 4 subdivs\n",
      "\t 118816\n",
      "\t 119172\n",
      "\t 119464\n",
      "\t 119587\n",
      "subcat /avtoservisy-infiniti/\n",
      "\t 3 subdivs\n",
      "\t 119705\n",
      "\t 119868\n",
      "\t 119937\n",
      "subcat /avtoservisy-isuzu/\n",
      "\t 3 subdivs\n",
      "\t 120045\n",
      "\t 120191\n",
      "\t 120250\n",
      "subcat /avtoservisy-jaguar/\n",
      "\t 3 subdivs\n",
      "\t 120361\n",
      "\t 120516\n",
      "\t 120572\n",
      "subcat /avtoservisy-jeep/\n",
      "\t 5 subdivs\n",
      "\t 120796\n",
      "\t 121234\n",
      "\t 121600\n",
      "\t 121918\n",
      "\t 122070\n",
      "subcat /avtoservisy-kawasaki/\n",
      "\t 3 subdivs\n",
      "\t 122221\n",
      "\t 122361\n",
      "\t 122434\n",
      "subcat /avtoservisy-kenworth/\n",
      "\t 1 subdivs\n",
      "\t 122434\n",
      "subcat /avtoservisy-kia/\n",
      "\t 6 subdivs\n",
      "\t 122775\n",
      "\t 123335\n",
      "\t 123856\n",
      "\t 124462\n",
      "\t 124750\n",
      "\t 124972\n",
      "subcat /avtoservisy-lancia/\n",
      "\t 4 subdivs\n",
      "\t 125181\n",
      "\t 125566\n",
      "\t 125905\n",
      "\t 126035\n",
      "subcat /avtoservisy-land-rover/\n",
      "\t 5 subdivs\n",
      "\t 126248\n",
      "\t 126690\n",
      "\t 127059\n",
      "\t 127377\n",
      "\t 127528\n",
      "subcat /avtoservisy-lexus/\n",
      "\t 6 subdivs\n",
      "\t 127813\n",
      "\t 128361\n",
      "\t 128844\n",
      "\t 129439\n"
     ]
    }
   ],
   "source": [
    "for cat in np.unique(categories['cat_code']):\n",
    "\tprint(\"category\", cat)\n",
    "\tdata = []\n",
    "\tsubcats = categories[categories['cat_code']==cat][\"sub_cat_code_num\"]\n",
    "\tfor subcat in subcats:\n",
    "\t\tsubname = categories[categories['sub_cat_code_num']==subcat][\"sub_cat_code\"].values[0]\n",
    "\t\tprint(\"subcat\", subname)\n",
    "\t\tcount = categories[categories['sub_cat_code_num']==subcat][\"sub_cat_code_count\"].values[0]\n",
    "\t\tsubdivs = math.ceil((float(count) / 80.0) ** 0.5)\n",
    "\t\tif subdivs == 0: subdivs = 1\n",
    "\t\tprint(\"\\t\", subdivs, \"subdivs\")\n",
    "\t\tfor lat in range(subdivs):\n",
    "\t\t\tfor lon in range(subdivs):\n",
    "\t\t\t\traw = load(subcat, subdivs, lat, lon)\n",
    "\t\t\t\tdata += (list(map(lambda f: {\n",
    "\t\t\t\t\t'coordinates': f['geometry']['coordinates'],\n",
    "\t\t\t\t\t'name': f['properties']['balloonContentHeader'],\n",
    "\t\t\t\t\t'link': f['properties']['balloonContentFooter'],\n",
    "\t\t\t\t\t'category': cat,\n",
    "\t\t\t\t\t'subcategory': subname,\n",
    "\t\t\t\t\t'subcat_id': subcat\n",
    "\t\t\t\t\t}, raw[\"features\"])))\n",
    "\t\t\tprint(\"\\t\", len(data))\n",
    "\t\n",
    "\n",
    "\twith open(cat.replace(\"/\",\"\") + '.csv', 'w', encoding='UTF8', newline='') as f:\n",
    "\t\theader = ['coordinates', 'name', 'link', 'category', 'subcategory', 'subcat_id']\n",
    "\t\tw = csv.DictWriter(f, data[0].keys(), delimiter=';')\n",
    "\t\tw.writeheader()\n",
    "\t\tw.writerows(data)\n",
    "\tprint(\"saved\", len(data), \"entries\")\n"
   ]
  },
  {
   "cell_type": "markdown",
   "metadata": {},
   "source": [
    "Easier to open file"
   ]
  },
  {
   "cell_type": "code",
   "execution_count": 36,
   "metadata": {},
   "outputs": [],
   "source": [
    "from os import listdir\n",
    "from os.path import isfile, join\n",
    "mypath='D:/Учеба/2 курс мага/диплом/geodata'\n",
    "onlyfiles = [f for f in listdir(mypath) if isfile(join(mypath, f))]\n",
    "first_file=pd.read_csv(mypath+'/'+onlyfiles[0],sep=';')\n",
    "for files in onlyfiles[1:]:\n",
    "    first_file=first_file.append(pd.read_csv(mypath+'/'+files,sep=';'))\n",
    "    \n"
   ]
  },
  {
   "cell_type": "code",
   "execution_count": 37,
   "metadata": {},
   "outputs": [
    {
     "name": "stdout",
     "output_type": "stream",
     "text": [
      "<class 'pandas.core.frame.DataFrame'>\n",
      "Int64Index: 3326685 entries, 0 to 107569\n",
      "Data columns (total 6 columns):\n",
      " #   Column       Dtype \n",
      "---  ------       ----- \n",
      " 0   coordinates  object\n",
      " 1   name         object\n",
      " 2   link         object\n",
      " 3   category     object\n",
      " 4   subcategory  object\n",
      " 5   subcat_id    int64 \n",
      "dtypes: int64(1), object(5)\n",
      "memory usage: 177.7+ MB\n"
     ]
    }
   ],
   "source": [
    "first_file.info()"
   ]
  },
  {
   "cell_type": "code",
   "execution_count": 38,
   "metadata": {},
   "outputs": [],
   "source": [
    "new_cats=pd.read_csv('C:/Users/Asus/Downloads/Telegram Desktop/categories.csv',sep=';')"
   ]
  },
  {
   "cell_type": "code",
   "execution_count": 39,
   "metadata": {},
   "outputs": [],
   "source": [
    "first_file=first_file.reset_index()\n",
    "\n"
   ]
  },
  {
   "cell_type": "code",
   "execution_count": 40,
   "metadata": {},
   "outputs": [
    {
     "data": {
      "text/html": [
       "<div>\n",
       "<style scoped>\n",
       "    .dataframe tbody tr th:only-of-type {\n",
       "        vertical-align: middle;\n",
       "    }\n",
       "\n",
       "    .dataframe tbody tr th {\n",
       "        vertical-align: top;\n",
       "    }\n",
       "\n",
       "    .dataframe thead th {\n",
       "        text-align: right;\n",
       "    }\n",
       "</style>\n",
       "<table border=\"1\" class=\"dataframe\">\n",
       "  <thead>\n",
       "    <tr style=\"text-align: right;\">\n",
       "      <th></th>\n",
       "      <th>index</th>\n",
       "      <th>coordinates</th>\n",
       "      <th>name</th>\n",
       "      <th>link</th>\n",
       "      <th>category</th>\n",
       "      <th>subcategory</th>\n",
       "      <th>subcat_id</th>\n",
       "    </tr>\n",
       "  </thead>\n",
       "  <tbody>\n",
       "    <tr>\n",
       "      <th>0</th>\n",
       "      <td>0</td>\n",
       "      <td>[30.205252, 59.8616]</td>\n",
       "      <td>GPower</td>\n",
       "      <td>&lt;a href='https://spb.spravker.ru/agzs/gpower-1...</td>\n",
       "      <td>/avto/</td>\n",
       "      <td>/agzs/</td>\n",
       "      <td>3</td>\n",
       "    </tr>\n",
       "    <tr>\n",
       "      <th>1</th>\n",
       "      <td>1</td>\n",
       "      <td>[30.205848, 59.86133]</td>\n",
       "      <td>Global Gas</td>\n",
       "      <td>&lt;a href='https://spb.spravker.ru/agzs/globalga...</td>\n",
       "      <td>/avto/</td>\n",
       "      <td>/agzs/</td>\n",
       "      <td>3</td>\n",
       "    </tr>\n",
       "    <tr>\n",
       "      <th>2</th>\n",
       "      <td>2</td>\n",
       "      <td>[30.246048, 59.877287]</td>\n",
       "      <td>Газпром газомоторное топливо</td>\n",
       "      <td>&lt;a href='https://spb.spravker.ru/org/gazprom-t...</td>\n",
       "      <td>/avto/</td>\n",
       "      <td>/agzs/</td>\n",
       "      <td>3</td>\n",
       "    </tr>\n",
       "    <tr>\n",
       "      <th>3</th>\n",
       "      <td>3</td>\n",
       "      <td>[30.164843, 59.805513]</td>\n",
       "      <td>ВиГаз</td>\n",
       "      <td>&lt;a href='https://spb.spravker.ru/agzs/vigaz.ht...</td>\n",
       "      <td>/avto/</td>\n",
       "      <td>/agzs/</td>\n",
       "      <td>3</td>\n",
       "    </tr>\n",
       "    <tr>\n",
       "      <th>4</th>\n",
       "      <td>4</td>\n",
       "      <td>[30.168601, 59.811463]</td>\n",
       "      <td>РосГаз</td>\n",
       "      <td>&lt;a href='https://spb.spravker.ru/org/rosgaz12....</td>\n",
       "      <td>/avto/</td>\n",
       "      <td>/agzs/</td>\n",
       "      <td>3</td>\n",
       "    </tr>\n",
       "    <tr>\n",
       "      <th>5</th>\n",
       "      <td>5</td>\n",
       "      <td>[30.189314, 59.824641]</td>\n",
       "      <td>Vervex</td>\n",
       "      <td>&lt;a href='https://spb.spravker.ru/org/vervex17....</td>\n",
       "      <td>/avto/</td>\n",
       "      <td>/agzs/</td>\n",
       "      <td>3</td>\n",
       "    </tr>\n",
       "    <tr>\n",
       "      <th>6</th>\n",
       "      <td>6</td>\n",
       "      <td>[30.215474, 59.846405]</td>\n",
       "      <td>Северное</td>\n",
       "      <td>&lt;a href='https://spb.spravker.ru/agzs/agzs-zao...</td>\n",
       "      <td>/avto/</td>\n",
       "      <td>/agzs/</td>\n",
       "      <td>3</td>\n",
       "    </tr>\n",
       "    <tr>\n",
       "      <th>7</th>\n",
       "      <td>7</td>\n",
       "      <td>[30.202743, 59.857229]</td>\n",
       "      <td>СЗТК</td>\n",
       "      <td>&lt;a href='https://spb.spravker.ru/agzs/sztk-1.h...</td>\n",
       "      <td>/avto/</td>\n",
       "      <td>/agzs/</td>\n",
       "      <td>3</td>\n",
       "    </tr>\n",
       "    <tr>\n",
       "      <th>8</th>\n",
       "      <td>8</td>\n",
       "      <td>[30.191326, 59.825494]</td>\n",
       "      <td>СЗТК</td>\n",
       "      <td>&lt;a href='https://spb.spravker.ru/agzs/sztk-8.h...</td>\n",
       "      <td>/avto/</td>\n",
       "      <td>/agzs/</td>\n",
       "      <td>3</td>\n",
       "    </tr>\n",
       "    <tr>\n",
       "      <th>9</th>\n",
       "      <td>9</td>\n",
       "      <td>[30.219467, 59.860337]</td>\n",
       "      <td>АГЗС</td>\n",
       "      <td>&lt;a href='https://spb.spravker.ru/agzs/agzs-4.h...</td>\n",
       "      <td>/avto/</td>\n",
       "      <td>/agzs/</td>\n",
       "      <td>3</td>\n",
       "    </tr>\n",
       "  </tbody>\n",
       "</table>\n",
       "</div>"
      ],
      "text/plain": [
       "   index             coordinates                          name  \\\n",
       "0      0    [30.205252, 59.8616]                        GPower   \n",
       "1      1   [30.205848, 59.86133]                    Global Gas   \n",
       "2      2  [30.246048, 59.877287]  Газпром газомоторное топливо   \n",
       "3      3  [30.164843, 59.805513]                         ВиГаз   \n",
       "4      4  [30.168601, 59.811463]                        РосГаз   \n",
       "5      5  [30.189314, 59.824641]                        Vervex   \n",
       "6      6  [30.215474, 59.846405]                      Северное   \n",
       "7      7  [30.202743, 59.857229]                          СЗТК   \n",
       "8      8  [30.191326, 59.825494]                          СЗТК   \n",
       "9      9  [30.219467, 59.860337]                          АГЗС   \n",
       "\n",
       "                                                link category subcategory  \\\n",
       "0  <a href='https://spb.spravker.ru/agzs/gpower-1...   /avto/      /agzs/   \n",
       "1  <a href='https://spb.spravker.ru/agzs/globalga...   /avto/      /agzs/   \n",
       "2  <a href='https://spb.spravker.ru/org/gazprom-t...   /avto/      /agzs/   \n",
       "3  <a href='https://spb.spravker.ru/agzs/vigaz.ht...   /avto/      /agzs/   \n",
       "4  <a href='https://spb.spravker.ru/org/rosgaz12....   /avto/      /agzs/   \n",
       "5  <a href='https://spb.spravker.ru/org/vervex17....   /avto/      /agzs/   \n",
       "6  <a href='https://spb.spravker.ru/agzs/agzs-zao...   /avto/      /agzs/   \n",
       "7  <a href='https://spb.spravker.ru/agzs/sztk-1.h...   /avto/      /agzs/   \n",
       "8  <a href='https://spb.spravker.ru/agzs/sztk-8.h...   /avto/      /agzs/   \n",
       "9  <a href='https://spb.spravker.ru/agzs/agzs-4.h...   /avto/      /agzs/   \n",
       "\n",
       "   subcat_id  \n",
       "0          3  \n",
       "1          3  \n",
       "2          3  \n",
       "3          3  \n",
       "4          3  \n",
       "5          3  \n",
       "6          3  \n",
       "7          3  \n",
       "8          3  \n",
       "9          3  "
      ]
     },
     "execution_count": 40,
     "metadata": {},
     "output_type": "execute_result"
    }
   ],
   "source": [
    "first_file.head(10)"
   ]
  },
  {
   "cell_type": "markdown",
   "metadata": {},
   "source": [
    "Data pre-processing"
   ]
  },
  {
   "cell_type": "code",
   "execution_count": 41,
   "metadata": {},
   "outputs": [],
   "source": [
    "\n",
    "first_file['link']=list(map(lambda x:x.split('=')[1].split('>')[0][1:-1],first_file['link']))\n",
    "first_file['lat']=list(map(lambda x:float(x.split(',')[1][:-1]),first_file['coordinates']))\n",
    "first_file['lon']=list(map(lambda x:float(x.split(',')[0][1:]),first_file['coordinates']))\n",
    "first_file['h3_9']=list(map(lambda lat,lng:h3.latlng_to_cell(lat,lng,9),first_file['lat'],first_file['lon']))"
   ]
  },
  {
   "cell_type": "code",
   "execution_count": 42,
   "metadata": {},
   "outputs": [
    {
     "data": {
      "text/html": [
       "<div>\n",
       "<style scoped>\n",
       "    .dataframe tbody tr th:only-of-type {\n",
       "        vertical-align: middle;\n",
       "    }\n",
       "\n",
       "    .dataframe tbody tr th {\n",
       "        vertical-align: top;\n",
       "    }\n",
       "\n",
       "    .dataframe thead th {\n",
       "        text-align: right;\n",
       "    }\n",
       "</style>\n",
       "<table border=\"1\" class=\"dataframe\">\n",
       "  <thead>\n",
       "    <tr style=\"text-align: right;\">\n",
       "      <th></th>\n",
       "      <th>cat_code</th>\n",
       "      <th>sub_cat_code</th>\n",
       "      <th>sub_cat_code_num</th>\n",
       "      <th>new_sub_cat_code</th>\n",
       "    </tr>\n",
       "  </thead>\n",
       "  <tbody>\n",
       "    <tr>\n",
       "      <th>0</th>\n",
       "      <td>/avto/</td>\n",
       "      <td>/agzs/</td>\n",
       "      <td>3</td>\n",
       "      <td>agzs or azs</td>\n",
       "    </tr>\n",
       "    <tr>\n",
       "      <th>1</th>\n",
       "      <td>/avto/</td>\n",
       "      <td>/azs/</td>\n",
       "      <td>2</td>\n",
       "      <td>agzs or azs</td>\n",
       "    </tr>\n",
       "    <tr>\n",
       "      <th>2</th>\n",
       "      <td>/avto/</td>\n",
       "      <td>/abrazivnaia-polirovka-kuzova/</td>\n",
       "      <td>676</td>\n",
       "      <td>avto_service</td>\n",
       "    </tr>\n",
       "  </tbody>\n",
       "</table>\n",
       "</div>"
      ],
      "text/plain": [
       "  cat_code                    sub_cat_code  sub_cat_code_num new_sub_cat_code\n",
       "0   /avto/                          /agzs/                 3      agzs or azs\n",
       "1   /avto/                           /azs/                 2      agzs or azs\n",
       "2   /avto/  /abrazivnaia-polirovka-kuzova/               676     avto_service"
      ]
     },
     "execution_count": 42,
     "metadata": {},
     "output_type": "execute_result"
    }
   ],
   "source": [
    "new_cats.head(3)"
   ]
  },
  {
   "cell_type": "code",
   "execution_count": 43,
   "metadata": {},
   "outputs": [
    {
     "data": {
      "text/html": [
       "<div>\n",
       "<style scoped>\n",
       "    .dataframe tbody tr th:only-of-type {\n",
       "        vertical-align: middle;\n",
       "    }\n",
       "\n",
       "    .dataframe tbody tr th {\n",
       "        vertical-align: top;\n",
       "    }\n",
       "\n",
       "    .dataframe thead th {\n",
       "        text-align: right;\n",
       "    }\n",
       "</style>\n",
       "<table border=\"1\" class=\"dataframe\">\n",
       "  <thead>\n",
       "    <tr style=\"text-align: right;\">\n",
       "      <th></th>\n",
       "      <th>index</th>\n",
       "      <th>coordinates</th>\n",
       "      <th>name</th>\n",
       "      <th>link</th>\n",
       "      <th>category</th>\n",
       "      <th>subcategory</th>\n",
       "      <th>subcat_id</th>\n",
       "      <th>lat</th>\n",
       "      <th>lon</th>\n",
       "      <th>h3_9</th>\n",
       "      <th>sub_cat_code_num</th>\n",
       "      <th>new_sub_cat_code</th>\n",
       "    </tr>\n",
       "  </thead>\n",
       "  <tbody>\n",
       "    <tr>\n",
       "      <th>0</th>\n",
       "      <td>0</td>\n",
       "      <td>[30.205252, 59.8616]</td>\n",
       "      <td>GPower</td>\n",
       "      <td>https://spb.spravker.ru/agzs/gpower-1.htm</td>\n",
       "      <td>/avto/</td>\n",
       "      <td>/agzs/</td>\n",
       "      <td>3</td>\n",
       "      <td>59.861600</td>\n",
       "      <td>30.205252</td>\n",
       "      <td>8911061503bffff</td>\n",
       "      <td>3</td>\n",
       "      <td>agzs or azs</td>\n",
       "    </tr>\n",
       "    <tr>\n",
       "      <th>1</th>\n",
       "      <td>1</td>\n",
       "      <td>[30.205848, 59.86133]</td>\n",
       "      <td>Global Gas</td>\n",
       "      <td>https://spb.spravker.ru/agzs/globalgas.htm</td>\n",
       "      <td>/avto/</td>\n",
       "      <td>/agzs/</td>\n",
       "      <td>3</td>\n",
       "      <td>59.861330</td>\n",
       "      <td>30.205848</td>\n",
       "      <td>8911061503bffff</td>\n",
       "      <td>3</td>\n",
       "      <td>agzs or azs</td>\n",
       "    </tr>\n",
       "    <tr>\n",
       "      <th>2</th>\n",
       "      <td>2</td>\n",
       "      <td>[30.246048, 59.877287]</td>\n",
       "      <td>Газпром газомоторное топливо</td>\n",
       "      <td>https://spb.spravker.ru/org/gazprom-transgaz2.htm</td>\n",
       "      <td>/avto/</td>\n",
       "      <td>/agzs/</td>\n",
       "      <td>3</td>\n",
       "      <td>59.877287</td>\n",
       "      <td>30.246048</td>\n",
       "      <td>89110615ec7ffff</td>\n",
       "      <td>3</td>\n",
       "      <td>agzs or azs</td>\n",
       "    </tr>\n",
       "  </tbody>\n",
       "</table>\n",
       "</div>"
      ],
      "text/plain": [
       "   index             coordinates                          name  \\\n",
       "0      0    [30.205252, 59.8616]                        GPower   \n",
       "1      1   [30.205848, 59.86133]                    Global Gas   \n",
       "2      2  [30.246048, 59.877287]  Газпром газомоторное топливо   \n",
       "\n",
       "                                                link category subcategory  \\\n",
       "0          https://spb.spravker.ru/agzs/gpower-1.htm   /avto/      /agzs/   \n",
       "1         https://spb.spravker.ru/agzs/globalgas.htm   /avto/      /agzs/   \n",
       "2  https://spb.spravker.ru/org/gazprom-transgaz2.htm   /avto/      /agzs/   \n",
       "\n",
       "   subcat_id        lat        lon             h3_9  sub_cat_code_num  \\\n",
       "0          3  59.861600  30.205252  8911061503bffff                 3   \n",
       "1          3  59.861330  30.205848  8911061503bffff                 3   \n",
       "2          3  59.877287  30.246048  89110615ec7ffff                 3   \n",
       "\n",
       "  new_sub_cat_code  \n",
       "0      agzs or azs  \n",
       "1      agzs or azs  \n",
       "2      agzs or azs  "
      ]
     },
     "execution_count": 43,
     "metadata": {},
     "output_type": "execute_result"
    }
   ],
   "source": [
    "first_file=pd.merge(first_file,new_cats[['sub_cat_code_num','new_sub_cat_code']],how='left',right_on='sub_cat_code_num',left_on='subcat_id')\n",
    "first_file.head(3)"
   ]
  },
  {
   "cell_type": "code",
   "execution_count": 44,
   "metadata": {},
   "outputs": [],
   "source": [
    "first_file['new_sub_cat_code']=list(map(str,first_file['new_sub_cat_code']))"
   ]
  },
  {
   "cell_type": "code",
   "execution_count": 45,
   "metadata": {},
   "outputs": [
    {
     "data": {
      "text/plain": [
       "array(['RE-service', 'additional education', 'agzs or azs', 'apteki',\n",
       "       'avto_buy', 'avto_service', 'avto_shop', 'bezopasnost', 'biznes',\n",
       "       'cemetery', 'clothers', 'clothes', 'dom-i-interer',\n",
       "       'eda-i-napitki', 'furniture', 'gai-gibdd',\n",
       "       'gosudarstvo-i-obschestvo', 'hobby', 'hospital', 'hospitality',\n",
       "       'internet-service', 'kindergarten', 'kino', 'krasota-i-zdorove',\n",
       "       'library', 'med-service', 'med-shop', 'museum', 'nan',\n",
       "       'nochnye-kluby', 'otdyih-i-razvlecheniya', 'park',\n",
       "       'pozharnye-chasti', 'punkt-vydachi', 'religion', 'rynki',\n",
       "       'safety-shop', 'school', 'shop', 'sluzhby-ekstrennogo-vyzova',\n",
       "       'sluzhby-spaseniia', 'social housing', 'sport', 'sport shop',\n",
       "       'supermarket', 'tech', 'theater', 'torgovye-centry',\n",
       "       'tourism services', 'tovaryi-dlya-detej', 'university',\n",
       "       'upravlenie-obrazovaniem', 'vet clinics', 'vet service',\n",
       "       'vet-shop'], dtype=object)"
      ]
     },
     "execution_count": 45,
     "metadata": {},
     "output_type": "execute_result"
    }
   ],
   "source": [
    "np.unique(first_file['new_sub_cat_code'])"
   ]
  },
  {
   "cell_type": "code",
   "execution_count": 46,
   "metadata": {},
   "outputs": [
    {
     "data": {
      "application/vnd.plotly.v1+json": {
       "config": {
        "plotlyServerURL": "https://plot.ly"
       },
       "data": [
        {
         "customdata": [
          [
           "Дот оборонительного рубежа Ижора"
          ],
          [
           "Адмиралтейские верфи"
          ],
          [
           "ФГБОУВО Санкт-Петербургский государственный педиатрический медицинский университет Министерства здравоохранения Российской Федерации, музей"
          ],
          [
           "Ицаэ Санкт-Петербурга"
          ],
          [
           "Центральный парк культуры и отдыха им. С. М. Кирова"
          ],
          [
           "Администрация Музейно-мемориального комплекса Дорога жизни"
          ],
          [
           "Музейно-мемориальный комплекс Дорога жизни, администрация"
          ],
          [
           "Музей гражданской авиации в Санкт-Петербурге"
          ],
          [
           "Исторические и Интересные Факты"
          ],
          [
           "Музей Галины Васильевны Старовойтовой"
          ],
          [
           "Музей истории энергетики Северо-Запада"
          ],
          [
           "Дот"
          ],
          [
           "Музей старинных автомобилей и мотоциклов"
          ],
          [
           "Пролетарский"
          ],
          [
           "Коммуналка"
          ],
          [
           "Митьки-Арт"
          ],
          [
           "Ленэкспо, Павильон № 4"
          ],
          [
           "Музей электрической эпохи"
          ],
          [
           "Доходный дом Елисеевых"
          ],
          [
           "Музей ВВС"
          ],
          [
           "Дом Барышникова"
          ],
          [
           "Особняк Матильды Феликсовны Кшесинской"
          ],
          [
           "Клуб и музей Ржевского полигона"
          ],
          [
           "Летний сад"
          ],
          [
           "СПб ГКУ Курортный лесопарк"
          ],
          [
           "Новоорловский"
          ],
          [
           "Государственный природный заказник регионального значения Юнтоловский"
          ],
          [
           "Заросли"
          ],
          [
           "СПП Приморское"
          ],
          [
           "Сквер Спасателей"
          ],
          [
           "Сад Жореса Алфёрова"
          ],
          [
           "Пулковский парк"
          ],
          [
           "Лесопарк Оккервиль"
          ],
          [
           "Мгинский сквер"
          ],
          [
           "Расстанный сквер"
          ],
          [
           "Курский сквер"
          ],
          [
           "Сквер Василия Косякова"
          ],
          [
           "Рахманиновский сквер"
          ],
          [
           "Сквер Сергея Орлова"
          ],
          [
           "Мельцеровский сквер"
          ],
          [
           "Сад на Неве"
          ],
          [
           "Таврический сад"
          ],
          [
           "Сквер Молдагуловой"
          ],
          [
           "Гурдин сквер"
          ],
          [
           "сквер Георга Отса"
          ],
          [
           "Сад Прометей"
          ],
          [
           "сквер Памяти"
          ],
          [
           "Юнтоловский лесопарк"
          ],
          [
           "Анфисин сад"
          ],
          [
           "сквер Капитана Кучиева"
          ],
          [
           "Канонерский парк"
          ],
          [
           "Александрино"
          ],
          [
           "Пулковский Парк"
          ],
          [
           "Комсомольский сквер"
          ],
          [
           "бульвар Ленинградских Мукомолов"
          ],
          [
           "сквер Семёнова-Тян-Шанского"
          ],
          [
           "парк на Карповке"
          ],
          [
           "парк Охта-Оккервиль"
          ],
          [
           "Сквер Расула Гамзатова"
          ],
          [
           "Новоохтинский парк"
          ],
          [
           "Сквер Смолячкова"
          ],
          [
           "Луспекаевский сквер"
          ],
          [
           "Сквер Гаджибекова"
          ],
          [
           "Парк культуры и отдыха"
          ],
          [
           "Сквер Василия Ракова"
          ],
          [
           "парк усадьбы Приютино"
          ],
          [
           "ИМН"
          ],
          [
           "Дирекция особо охраняемых природных территорий Санкт-Петербурга"
          ],
          [
           "Управление садово-паркового хозяйства"
          ],
          [
           "Гейзер"
          ],
          [
           "Гейзер"
          ],
          [
           "Лесопарк"
          ],
          [
           "Ржевский лесопарк"
          ],
          [
           "парк Политехнического университета"
          ],
          [
           "Пискарёвский лесопарк"
          ],
          [
           "Скопление дубов"
          ],
          [
           "Новоорловский лесопарк"
          ],
          [
           "парк Александрино"
          ],
          [
           "Охтинская долина"
          ],
          [
           "Невский лесопарк"
          ],
          [
           "Летний сад"
          ],
          [
           "СПб ГКУ Курортный лесопарк"
          ],
          [
           "Новоорловский"
          ],
          [
           "Государственный природный заказник регионального значения Юнтоловский"
          ],
          [
           "Заросли"
          ],
          [
           "СПП Приморское"
          ],
          [
           "Сквер Спасателей"
          ],
          [
           "Сад Жореса Алфёрова"
          ],
          [
           "Пулковский парк"
          ],
          [
           "Лесопарк Оккервиль"
          ],
          [
           "Мгинский сквер"
          ],
          [
           "Расстанный сквер"
          ],
          [
           "Курский сквер"
          ],
          [
           "Сквер Василия Косякова"
          ],
          [
           "Рахманиновский сквер"
          ],
          [
           "Сквер Сергея Орлова"
          ],
          [
           "Мельцеровский сквер"
          ],
          [
           "Сад на Неве"
          ],
          [
           "Таврический сад"
          ],
          [
           "Сквер Молдагуловой"
          ],
          [
           "Гурдин сквер"
          ],
          [
           "сквер Георга Отса"
          ],
          [
           "Сад Прометей"
          ],
          [
           "сквер Памяти"
          ],
          [
           "Юнтоловский лесопарк"
          ],
          [
           "Анфисин сад"
          ],
          [
           "сквер Капитана Кучиева"
          ],
          [
           "Канонерский парк"
          ],
          [
           "Александрино"
          ],
          [
           "Пулковский Парк"
          ],
          [
           "Комсомольский сквер"
          ],
          [
           "бульвар Ленинградских Мукомолов"
          ],
          [
           "сквер Семёнова-Тян-Шанского"
          ],
          [
           "парк на Карповке"
          ],
          [
           "Гостиница Заповедник"
          ],
          [
           "парк Охта-Оккервиль"
          ],
          [
           "Сквер Расула Гамзатова"
          ],
          [
           "Новоохтинский парк"
          ],
          [
           "Сквер Смолячкова"
          ],
          [
           "Луспекаевский сквер"
          ],
          [
           "Сквер Гаджибекова"
          ],
          [
           "Парк культуры и отдыха"
          ],
          [
           "Сквер Василия Ракова"
          ],
          [
           "парк усадьбы Приютино"
          ],
          [
           "Дирекция особо охраняемых природных территорий Санкт-Петербурга"
          ],
          [
           "Юнтоловский заказник"
          ],
          [
           "Ржевский лесопарк"
          ],
          [
           "Ботанический сад"
          ],
          [
           "Охтинская долина"
          ],
          [
           "Невский лесопарк"
          ]
         ],
         "hovertemplate": "<b>%{hovertext}</b><br><br>lat=%{lat}<br>lon=%{lon}<br>name=%{customdata[0]}<extra></extra>",
         "hovertext": [
          "Дот оборонительного рубежа Ижора",
          "Адмиралтейские верфи",
          "ФГБОУВО Санкт-Петербургский государственный педиатрический медицинский университет Министерства здравоохранения Российской Федерации, музей",
          "Ицаэ Санкт-Петербурга",
          "Центральный парк культуры и отдыха им. С. М. Кирова",
          "Администрация Музейно-мемориального комплекса Дорога жизни",
          "Музейно-мемориальный комплекс Дорога жизни, администрация",
          "Музей гражданской авиации в Санкт-Петербурге",
          "Исторические и Интересные Факты",
          "Музей Галины Васильевны Старовойтовой",
          "Музей истории энергетики Северо-Запада",
          "Дот",
          "Музей старинных автомобилей и мотоциклов",
          "Пролетарский",
          "Коммуналка",
          "Митьки-Арт",
          "Ленэкспо, Павильон № 4",
          "Музей электрической эпохи",
          "Доходный дом Елисеевых",
          "Музей ВВС",
          "Дом Барышникова",
          "Особняк Матильды Феликсовны Кшесинской",
          "Клуб и музей Ржевского полигона",
          "Летний сад",
          "СПб ГКУ Курортный лесопарк",
          "Новоорловский",
          "Государственный природный заказник регионального значения Юнтоловский",
          "Заросли",
          "СПП Приморское",
          "Сквер Спасателей",
          "Сад Жореса Алфёрова",
          "Пулковский парк",
          "Лесопарк Оккервиль",
          "Мгинский сквер",
          "Расстанный сквер",
          "Курский сквер",
          "Сквер Василия Косякова",
          "Рахманиновский сквер",
          "Сквер Сергея Орлова",
          "Мельцеровский сквер",
          "Сад на Неве",
          "Таврический сад",
          "Сквер Молдагуловой",
          "Гурдин сквер",
          "сквер Георга Отса",
          "Сад Прометей",
          "сквер Памяти",
          "Юнтоловский лесопарк",
          "Анфисин сад",
          "сквер Капитана Кучиева",
          "Канонерский парк",
          "Александрино",
          "Пулковский Парк",
          "Комсомольский сквер",
          "бульвар Ленинградских Мукомолов",
          "сквер Семёнова-Тян-Шанского",
          "парк на Карповке",
          "парк Охта-Оккервиль",
          "Сквер Расула Гамзатова",
          "Новоохтинский парк",
          "Сквер Смолячкова",
          "Луспекаевский сквер",
          "Сквер Гаджибекова",
          "Парк культуры и отдыха",
          "Сквер Василия Ракова",
          "парк усадьбы Приютино",
          "ИМН",
          "Дирекция особо охраняемых природных территорий Санкт-Петербурга",
          "Управление садово-паркового хозяйства",
          "Гейзер",
          "Гейзер",
          "Лесопарк",
          "Ржевский лесопарк",
          "парк Политехнического университета",
          "Пискарёвский лесопарк",
          "Скопление дубов",
          "Новоорловский лесопарк",
          "парк Александрино",
          "Охтинская долина",
          "Невский лесопарк",
          "Летний сад",
          "СПб ГКУ Курортный лесопарк",
          "Новоорловский",
          "Государственный природный заказник регионального значения Юнтоловский",
          "Заросли",
          "СПП Приморское",
          "Сквер Спасателей",
          "Сад Жореса Алфёрова",
          "Пулковский парк",
          "Лесопарк Оккервиль",
          "Мгинский сквер",
          "Расстанный сквер",
          "Курский сквер",
          "Сквер Василия Косякова",
          "Рахманиновский сквер",
          "Сквер Сергея Орлова",
          "Мельцеровский сквер",
          "Сад на Неве",
          "Таврический сад",
          "Сквер Молдагуловой",
          "Гурдин сквер",
          "сквер Георга Отса",
          "Сад Прометей",
          "сквер Памяти",
          "Юнтоловский лесопарк",
          "Анфисин сад",
          "сквер Капитана Кучиева",
          "Канонерский парк",
          "Александрино",
          "Пулковский Парк",
          "Комсомольский сквер",
          "бульвар Ленинградских Мукомолов",
          "сквер Семёнова-Тян-Шанского",
          "парк на Карповке",
          "Гостиница Заповедник",
          "парк Охта-Оккервиль",
          "Сквер Расула Гамзатова",
          "Новоохтинский парк",
          "Сквер Смолячкова",
          "Луспекаевский сквер",
          "Сквер Гаджибекова",
          "Парк культуры и отдыха",
          "Сквер Василия Ракова",
          "парк усадьбы Приютино",
          "Дирекция особо охраняемых природных территорий Санкт-Петербурга",
          "Юнтоловский заказник",
          "Ржевский лесопарк",
          "Ботанический сад",
          "Охтинская долина",
          "Невский лесопарк"
         ],
         "lat": [
          59.85265,
          59.917022,
          59.97724,
          59.997024,
          59.979264,
          60.009926,
          60.010465,
          59.819392,
          59.949551,
          59.933222,
          59.95046,
          59.814726,
          59.819826,
          59.888153,
          59.931576,
          59.925883,
          59.929995,
          59.922982,
          59.943913,
          59.94018,
          59.926512,
          59.954375,
          59.986004,
          59.947112,
          59.976758,
          60.04814,
          60.02391,
          59.95239,
          60.012082,
          59.880919,
          60.002258,
          59.838265,
          59.912522,
          59.901339,
          59.905432,
          59.913059,
          59.906705,
          59.91564,
          59.961233,
          59.965473,
          59.954735,
          59.94507,
          59.947706,
          59.948009,
          59.952725,
          60.039649,
          59.995318,
          60.021998,
          59.953075,
          59.955191,
          59.890868,
          59.829457,
          59.838326,
          59.874458,
          59.909743,
          59.936239,
          59.968053,
          59.933537,
          60.0223,
          60.039062,
          59.970763,
          59.991638,
          60.056062,
          59.857863,
          59.854693,
          60.012266,
          59.863062,
          59.931936,
          59.957417,
          59.87145,
          59.87145,
          59.964854,
          59.960461,
          60.00482,
          59.999714,
          60.018839,
          60.046944,
          59.840849,
          60.057171,
          59.856793,
          59.947112,
          59.976758,
          60.04814,
          60.02391,
          59.95239,
          60.012082,
          59.880919,
          60.002258,
          59.838265,
          59.912522,
          59.901339,
          59.905432,
          59.913059,
          59.906705,
          59.91564,
          59.961233,
          59.965473,
          59.954735,
          59.94507,
          59.947706,
          59.948009,
          59.952725,
          60.039649,
          59.995318,
          60.021998,
          59.953075,
          59.955191,
          59.890868,
          59.829457,
          59.838326,
          59.874458,
          59.909743,
          59.936239,
          59.968053,
          59.9281,
          59.933537,
          60.0223,
          60.039062,
          59.970763,
          59.991638,
          60.056062,
          59.857863,
          59.854693,
          60.012266,
          59.931936,
          60.013245,
          59.960461,
          59.970038,
          60.057171,
          59.856793
         ],
         "legendgroup": "",
         "lon": [
          30.421268,
          30.277181,
          30.339204,
          30.296339,
          30.26996,
          30.591965,
          30.592019,
          30.291056,
          30.316641,
          30.310552,
          30.295068,
          30.184202,
          30.317216,
          30.441255,
          30.345189,
          30.352425,
          30.236261,
          30.324373,
          30.295238,
          30.358708,
          30.351917,
          30.324536,
          30.51701,
          30.333932,
          30.384487,
          30.282466,
          30.169093,
          30.270047,
          30.312755,
          30.373578,
          30.429307,
          30.326072,
          30.511187,
          30.364445,
          30.35727,
          30.344016,
          30.275233,
          30.296408,
          30.322602,
          30.343764,
          30.390859,
          30.367766,
          30.410607,
          30.413736,
          30.414356,
          30.386905,
          30.415785,
          30.200006,
          30.236556,
          30.215406,
          30.19898,
          30.241773,
          30.326016,
          30.259656,
          30.412686,
          30.252653,
          30.326327,
          30.419911,
          30.435148,
          30.447238,
          30.340319,
          30.318087,
          30.314665,
          30.322865,
          30.33285,
          30.577764,
          30.418914,
          30.312652,
          30.320234,
          30.317503,
          30.317503,
          30.499394,
          30.52829,
          30.375876,
          30.406706,
          30.350112,
          30.280996,
          30.221572,
          30.465791,
          30.599068,
          30.333932,
          30.384487,
          30.282466,
          30.169093,
          30.270047,
          30.312755,
          30.373578,
          30.429307,
          30.326072,
          30.511187,
          30.364445,
          30.35727,
          30.344016,
          30.275233,
          30.296408,
          30.322602,
          30.343764,
          30.390859,
          30.367766,
          30.410607,
          30.413736,
          30.414356,
          30.386905,
          30.415785,
          30.200006,
          30.236556,
          30.215406,
          30.19898,
          30.241773,
          30.326016,
          30.259656,
          30.412686,
          30.252653,
          30.326327,
          30.34175,
          30.419911,
          30.435148,
          30.447238,
          30.340319,
          30.318087,
          30.314665,
          30.322865,
          30.33285,
          30.577764,
          30.312652,
          30.171931,
          30.52829,
          30.3253,
          30.465791,
          30.599068
         ],
         "marker": {
          "color": "#636efa"
         },
         "mode": "markers",
         "name": "",
         "showlegend": false,
         "subplot": "mapbox",
         "type": "scattermapbox"
        }
       ],
       "layout": {
        "height": 800,
        "legend": {
         "tracegroupgap": 0
        },
        "mapbox": {
         "center": {
          "lat": 59.94513789999999,
          "lon": 30.350462615384615
         },
         "domain": {
          "x": [
           0,
           1
          ],
          "y": [
           0,
           1
          ]
         },
         "style": "open-street-map",
         "zoom": 8
        },
        "margin": {
         "b": 0,
         "l": 0,
         "r": 0,
         "t": 0
        },
        "template": {
         "data": {
          "bar": [
           {
            "error_x": {
             "color": "#2a3f5f"
            },
            "error_y": {
             "color": "#2a3f5f"
            },
            "marker": {
             "line": {
              "color": "#E5ECF6",
              "width": 0.5
             }
            },
            "type": "bar"
           }
          ],
          "barpolar": [
           {
            "marker": {
             "line": {
              "color": "#E5ECF6",
              "width": 0.5
             }
            },
            "type": "barpolar"
           }
          ],
          "carpet": [
           {
            "aaxis": {
             "endlinecolor": "#2a3f5f",
             "gridcolor": "white",
             "linecolor": "white",
             "minorgridcolor": "white",
             "startlinecolor": "#2a3f5f"
            },
            "baxis": {
             "endlinecolor": "#2a3f5f",
             "gridcolor": "white",
             "linecolor": "white",
             "minorgridcolor": "white",
             "startlinecolor": "#2a3f5f"
            },
            "type": "carpet"
           }
          ],
          "choropleth": [
           {
            "colorbar": {
             "outlinewidth": 0,
             "ticks": ""
            },
            "type": "choropleth"
           }
          ],
          "contour": [
           {
            "colorbar": {
             "outlinewidth": 0,
             "ticks": ""
            },
            "colorscale": [
             [
              0,
              "#0d0887"
             ],
             [
              0.1111111111111111,
              "#46039f"
             ],
             [
              0.2222222222222222,
              "#7201a8"
             ],
             [
              0.3333333333333333,
              "#9c179e"
             ],
             [
              0.4444444444444444,
              "#bd3786"
             ],
             [
              0.5555555555555556,
              "#d8576b"
             ],
             [
              0.6666666666666666,
              "#ed7953"
             ],
             [
              0.7777777777777778,
              "#fb9f3a"
             ],
             [
              0.8888888888888888,
              "#fdca26"
             ],
             [
              1,
              "#f0f921"
             ]
            ],
            "type": "contour"
           }
          ],
          "contourcarpet": [
           {
            "colorbar": {
             "outlinewidth": 0,
             "ticks": ""
            },
            "type": "contourcarpet"
           }
          ],
          "heatmap": [
           {
            "colorbar": {
             "outlinewidth": 0,
             "ticks": ""
            },
            "colorscale": [
             [
              0,
              "#0d0887"
             ],
             [
              0.1111111111111111,
              "#46039f"
             ],
             [
              0.2222222222222222,
              "#7201a8"
             ],
             [
              0.3333333333333333,
              "#9c179e"
             ],
             [
              0.4444444444444444,
              "#bd3786"
             ],
             [
              0.5555555555555556,
              "#d8576b"
             ],
             [
              0.6666666666666666,
              "#ed7953"
             ],
             [
              0.7777777777777778,
              "#fb9f3a"
             ],
             [
              0.8888888888888888,
              "#fdca26"
             ],
             [
              1,
              "#f0f921"
             ]
            ],
            "type": "heatmap"
           }
          ],
          "heatmapgl": [
           {
            "colorbar": {
             "outlinewidth": 0,
             "ticks": ""
            },
            "colorscale": [
             [
              0,
              "#0d0887"
             ],
             [
              0.1111111111111111,
              "#46039f"
             ],
             [
              0.2222222222222222,
              "#7201a8"
             ],
             [
              0.3333333333333333,
              "#9c179e"
             ],
             [
              0.4444444444444444,
              "#bd3786"
             ],
             [
              0.5555555555555556,
              "#d8576b"
             ],
             [
              0.6666666666666666,
              "#ed7953"
             ],
             [
              0.7777777777777778,
              "#fb9f3a"
             ],
             [
              0.8888888888888888,
              "#fdca26"
             ],
             [
              1,
              "#f0f921"
             ]
            ],
            "type": "heatmapgl"
           }
          ],
          "histogram": [
           {
            "marker": {
             "colorbar": {
              "outlinewidth": 0,
              "ticks": ""
             }
            },
            "type": "histogram"
           }
          ],
          "histogram2d": [
           {
            "colorbar": {
             "outlinewidth": 0,
             "ticks": ""
            },
            "colorscale": [
             [
              0,
              "#0d0887"
             ],
             [
              0.1111111111111111,
              "#46039f"
             ],
             [
              0.2222222222222222,
              "#7201a8"
             ],
             [
              0.3333333333333333,
              "#9c179e"
             ],
             [
              0.4444444444444444,
              "#bd3786"
             ],
             [
              0.5555555555555556,
              "#d8576b"
             ],
             [
              0.6666666666666666,
              "#ed7953"
             ],
             [
              0.7777777777777778,
              "#fb9f3a"
             ],
             [
              0.8888888888888888,
              "#fdca26"
             ],
             [
              1,
              "#f0f921"
             ]
            ],
            "type": "histogram2d"
           }
          ],
          "histogram2dcontour": [
           {
            "colorbar": {
             "outlinewidth": 0,
             "ticks": ""
            },
            "colorscale": [
             [
              0,
              "#0d0887"
             ],
             [
              0.1111111111111111,
              "#46039f"
             ],
             [
              0.2222222222222222,
              "#7201a8"
             ],
             [
              0.3333333333333333,
              "#9c179e"
             ],
             [
              0.4444444444444444,
              "#bd3786"
             ],
             [
              0.5555555555555556,
              "#d8576b"
             ],
             [
              0.6666666666666666,
              "#ed7953"
             ],
             [
              0.7777777777777778,
              "#fb9f3a"
             ],
             [
              0.8888888888888888,
              "#fdca26"
             ],
             [
              1,
              "#f0f921"
             ]
            ],
            "type": "histogram2dcontour"
           }
          ],
          "mesh3d": [
           {
            "colorbar": {
             "outlinewidth": 0,
             "ticks": ""
            },
            "type": "mesh3d"
           }
          ],
          "parcoords": [
           {
            "line": {
             "colorbar": {
              "outlinewidth": 0,
              "ticks": ""
             }
            },
            "type": "parcoords"
           }
          ],
          "pie": [
           {
            "automargin": true,
            "type": "pie"
           }
          ],
          "scatter": [
           {
            "marker": {
             "colorbar": {
              "outlinewidth": 0,
              "ticks": ""
             }
            },
            "type": "scatter"
           }
          ],
          "scatter3d": [
           {
            "line": {
             "colorbar": {
              "outlinewidth": 0,
              "ticks": ""
             }
            },
            "marker": {
             "colorbar": {
              "outlinewidth": 0,
              "ticks": ""
             }
            },
            "type": "scatter3d"
           }
          ],
          "scattercarpet": [
           {
            "marker": {
             "colorbar": {
              "outlinewidth": 0,
              "ticks": ""
             }
            },
            "type": "scattercarpet"
           }
          ],
          "scattergeo": [
           {
            "marker": {
             "colorbar": {
              "outlinewidth": 0,
              "ticks": ""
             }
            },
            "type": "scattergeo"
           }
          ],
          "scattergl": [
           {
            "marker": {
             "colorbar": {
              "outlinewidth": 0,
              "ticks": ""
             }
            },
            "type": "scattergl"
           }
          ],
          "scattermapbox": [
           {
            "marker": {
             "colorbar": {
              "outlinewidth": 0,
              "ticks": ""
             }
            },
            "type": "scattermapbox"
           }
          ],
          "scatterpolar": [
           {
            "marker": {
             "colorbar": {
              "outlinewidth": 0,
              "ticks": ""
             }
            },
            "type": "scatterpolar"
           }
          ],
          "scatterpolargl": [
           {
            "marker": {
             "colorbar": {
              "outlinewidth": 0,
              "ticks": ""
             }
            },
            "type": "scatterpolargl"
           }
          ],
          "scatterternary": [
           {
            "marker": {
             "colorbar": {
              "outlinewidth": 0,
              "ticks": ""
             }
            },
            "type": "scatterternary"
           }
          ],
          "surface": [
           {
            "colorbar": {
             "outlinewidth": 0,
             "ticks": ""
            },
            "colorscale": [
             [
              0,
              "#0d0887"
             ],
             [
              0.1111111111111111,
              "#46039f"
             ],
             [
              0.2222222222222222,
              "#7201a8"
             ],
             [
              0.3333333333333333,
              "#9c179e"
             ],
             [
              0.4444444444444444,
              "#bd3786"
             ],
             [
              0.5555555555555556,
              "#d8576b"
             ],
             [
              0.6666666666666666,
              "#ed7953"
             ],
             [
              0.7777777777777778,
              "#fb9f3a"
             ],
             [
              0.8888888888888888,
              "#fdca26"
             ],
             [
              1,
              "#f0f921"
             ]
            ],
            "type": "surface"
           }
          ],
          "table": [
           {
            "cells": {
             "fill": {
              "color": "#EBF0F8"
             },
             "line": {
              "color": "white"
             }
            },
            "header": {
             "fill": {
              "color": "#C8D4E3"
             },
             "line": {
              "color": "white"
             }
            },
            "type": "table"
           }
          ]
         },
         "layout": {
          "annotationdefaults": {
           "arrowcolor": "#2a3f5f",
           "arrowhead": 0,
           "arrowwidth": 1
          },
          "coloraxis": {
           "colorbar": {
            "outlinewidth": 0,
            "ticks": ""
           }
          },
          "colorscale": {
           "diverging": [
            [
             0,
             "#8e0152"
            ],
            [
             0.1,
             "#c51b7d"
            ],
            [
             0.2,
             "#de77ae"
            ],
            [
             0.3,
             "#f1b6da"
            ],
            [
             0.4,
             "#fde0ef"
            ],
            [
             0.5,
             "#f7f7f7"
            ],
            [
             0.6,
             "#e6f5d0"
            ],
            [
             0.7,
             "#b8e186"
            ],
            [
             0.8,
             "#7fbc41"
            ],
            [
             0.9,
             "#4d9221"
            ],
            [
             1,
             "#276419"
            ]
           ],
           "sequential": [
            [
             0,
             "#0d0887"
            ],
            [
             0.1111111111111111,
             "#46039f"
            ],
            [
             0.2222222222222222,
             "#7201a8"
            ],
            [
             0.3333333333333333,
             "#9c179e"
            ],
            [
             0.4444444444444444,
             "#bd3786"
            ],
            [
             0.5555555555555556,
             "#d8576b"
            ],
            [
             0.6666666666666666,
             "#ed7953"
            ],
            [
             0.7777777777777778,
             "#fb9f3a"
            ],
            [
             0.8888888888888888,
             "#fdca26"
            ],
            [
             1,
             "#f0f921"
            ]
           ],
           "sequentialminus": [
            [
             0,
             "#0d0887"
            ],
            [
             0.1111111111111111,
             "#46039f"
            ],
            [
             0.2222222222222222,
             "#7201a8"
            ],
            [
             0.3333333333333333,
             "#9c179e"
            ],
            [
             0.4444444444444444,
             "#bd3786"
            ],
            [
             0.5555555555555556,
             "#d8576b"
            ],
            [
             0.6666666666666666,
             "#ed7953"
            ],
            [
             0.7777777777777778,
             "#fb9f3a"
            ],
            [
             0.8888888888888888,
             "#fdca26"
            ],
            [
             1,
             "#f0f921"
            ]
           ]
          },
          "colorway": [
           "#636efa",
           "#EF553B",
           "#00cc96",
           "#ab63fa",
           "#FFA15A",
           "#19d3f3",
           "#FF6692",
           "#B6E880",
           "#FF97FF",
           "#FECB52"
          ],
          "font": {
           "color": "#2a3f5f"
          },
          "geo": {
           "bgcolor": "white",
           "lakecolor": "white",
           "landcolor": "#E5ECF6",
           "showlakes": true,
           "showland": true,
           "subunitcolor": "white"
          },
          "hoverlabel": {
           "align": "left"
          },
          "hovermode": "closest",
          "mapbox": {
           "style": "light"
          },
          "paper_bgcolor": "white",
          "plot_bgcolor": "#E5ECF6",
          "polar": {
           "angularaxis": {
            "gridcolor": "white",
            "linecolor": "white",
            "ticks": ""
           },
           "bgcolor": "#E5ECF6",
           "radialaxis": {
            "gridcolor": "white",
            "linecolor": "white",
            "ticks": ""
           }
          },
          "scene": {
           "xaxis": {
            "backgroundcolor": "#E5ECF6",
            "gridcolor": "white",
            "gridwidth": 2,
            "linecolor": "white",
            "showbackground": true,
            "ticks": "",
            "zerolinecolor": "white"
           },
           "yaxis": {
            "backgroundcolor": "#E5ECF6",
            "gridcolor": "white",
            "gridwidth": 2,
            "linecolor": "white",
            "showbackground": true,
            "ticks": "",
            "zerolinecolor": "white"
           },
           "zaxis": {
            "backgroundcolor": "#E5ECF6",
            "gridcolor": "white",
            "gridwidth": 2,
            "linecolor": "white",
            "showbackground": true,
            "ticks": "",
            "zerolinecolor": "white"
           }
          },
          "shapedefaults": {
           "line": {
            "color": "#2a3f5f"
           }
          },
          "ternary": {
           "aaxis": {
            "gridcolor": "white",
            "linecolor": "white",
            "ticks": ""
           },
           "baxis": {
            "gridcolor": "white",
            "linecolor": "white",
            "ticks": ""
           },
           "bgcolor": "#E5ECF6",
           "caxis": {
            "gridcolor": "white",
            "linecolor": "white",
            "ticks": ""
           }
          },
          "title": {
           "x": 0.05
          },
          "xaxis": {
           "automargin": true,
           "gridcolor": "white",
           "linecolor": "white",
           "ticks": "",
           "title": {
            "standoff": 15
           },
           "zerolinecolor": "white",
           "zerolinewidth": 2
          },
          "yaxis": {
           "automargin": true,
           "gridcolor": "white",
           "linecolor": "white",
           "ticks": "",
           "title": {
            "standoff": 15
           },
           "zerolinecolor": "white",
           "zerolinewidth": 2
          }
         }
        },
        "width": 800
       }
      }
     },
     "metadata": {},
     "output_type": "display_data"
    }
   ],
   "source": [
    "\n",
    "\n",
    "\n",
    "color_scale = [(0, 'orange'), (1,'red')]\n",
    "\n",
    "fig = px.scatter_mapbox(first_file[first_file['new_sub_cat_code']=='park'], \n",
    "                        lat=\"lat\", \n",
    "                        lon=\"lon\", \n",
    "                        hover_name=\"name\", \n",
    "                        hover_data=[\"name\"],\n",
    "                        #color=\"Listed\",\n",
    "                        #color_continuous_scale=color_scale,\n",
    "                        #size=\"Listed\",\n",
    "                        zoom=8, \n",
    "                        height=800,\n",
    "                        width=800)\n",
    "\n",
    "fig.update_layout(mapbox_style=\"open-street-map\")\n",
    "fig.update_layout(margin={\"r\":0,\"t\":0,\"l\":0,\"b\":0})\n",
    "fig.show()"
   ]
  },
  {
   "cell_type": "code",
   "execution_count": 47,
   "metadata": {},
   "outputs": [
    {
     "data": {
      "text/html": [
       "<div>\n",
       "<style scoped>\n",
       "    .dataframe tbody tr th:only-of-type {\n",
       "        vertical-align: middle;\n",
       "    }\n",
       "\n",
       "    .dataframe tbody tr th {\n",
       "        vertical-align: top;\n",
       "    }\n",
       "\n",
       "    .dataframe thead th {\n",
       "        text-align: right;\n",
       "    }\n",
       "</style>\n",
       "<table border=\"1\" class=\"dataframe\">\n",
       "  <thead>\n",
       "    <tr style=\"text-align: right;\">\n",
       "      <th></th>\n",
       "      <th>count</th>\n",
       "    </tr>\n",
       "    <tr>\n",
       "      <th>h3_9</th>\n",
       "      <th></th>\n",
       "    </tr>\n",
       "  </thead>\n",
       "  <tbody>\n",
       "    <tr>\n",
       "      <th>89110600103ffff</th>\n",
       "      <td>39</td>\n",
       "    </tr>\n",
       "    <tr>\n",
       "      <th>89110600113ffff</th>\n",
       "      <td>903</td>\n",
       "    </tr>\n",
       "    <tr>\n",
       "      <th>89110600117ffff</th>\n",
       "      <td>7</td>\n",
       "    </tr>\n",
       "    <tr>\n",
       "      <th>89110600123ffff</th>\n",
       "      <td>12</td>\n",
       "    </tr>\n",
       "    <tr>\n",
       "      <th>89110600127ffff</th>\n",
       "      <td>15</td>\n",
       "    </tr>\n",
       "    <tr>\n",
       "      <th>...</th>\n",
       "      <td>...</td>\n",
       "    </tr>\n",
       "    <tr>\n",
       "      <th>891106b9e8bffff</th>\n",
       "      <td>6</td>\n",
       "    </tr>\n",
       "    <tr>\n",
       "      <th>891106b9ebbffff</th>\n",
       "      <td>12</td>\n",
       "    </tr>\n",
       "    <tr>\n",
       "      <th>891106b9ec3ffff</th>\n",
       "      <td>1</td>\n",
       "    </tr>\n",
       "    <tr>\n",
       "      <th>891106b9ecbffff</th>\n",
       "      <td>5</td>\n",
       "    </tr>\n",
       "    <tr>\n",
       "      <th>891106b9edbffff</th>\n",
       "      <td>16</td>\n",
       "    </tr>\n",
       "  </tbody>\n",
       "</table>\n",
       "<p>6180 rows × 1 columns</p>\n",
       "</div>"
      ],
      "text/plain": [
       "                 count\n",
       "h3_9                  \n",
       "89110600103ffff     39\n",
       "89110600113ffff    903\n",
       "89110600117ffff      7\n",
       "89110600123ffff     12\n",
       "89110600127ffff     15\n",
       "...                ...\n",
       "891106b9e8bffff      6\n",
       "891106b9ebbffff     12\n",
       "891106b9ec3ffff      1\n",
       "891106b9ecbffff      5\n",
       "891106b9edbffff     16\n",
       "\n",
       "[6180 rows x 1 columns]"
      ]
     },
     "execution_count": 47,
     "metadata": {},
     "output_type": "execute_result"
    }
   ],
   "source": [
    "first_file['count']=1\n",
    "#pd.pivot_table(first_file,index='h3_9',columns='category',values='count',aggfunc=sum)\n",
    "pd.pivot_table(first_file,index='h3_9',values='count',aggfunc=sum)"
   ]
  },
  {
   "cell_type": "markdown",
   "metadata": {},
   "source": [
    "Add parks from 2gis"
   ]
  },
  {
   "cell_type": "code",
   "execution_count": 60,
   "metadata": {},
   "outputs": [
    {
     "data": {
      "text/html": [
       "<div>\n",
       "<style scoped>\n",
       "    .dataframe tbody tr th:only-of-type {\n",
       "        vertical-align: middle;\n",
       "    }\n",
       "\n",
       "    .dataframe tbody tr th {\n",
       "        vertical-align: top;\n",
       "    }\n",
       "\n",
       "    .dataframe thead th {\n",
       "        text-align: right;\n",
       "    }\n",
       "</style>\n",
       "<table border=\"1\" class=\"dataframe\">\n",
       "  <thead>\n",
       "    <tr style=\"text-align: right;\">\n",
       "      <th></th>\n",
       "      <th>index</th>\n",
       "      <th>coordinates</th>\n",
       "      <th>name</th>\n",
       "      <th>link</th>\n",
       "      <th>category</th>\n",
       "      <th>subcategory</th>\n",
       "      <th>subcat_id</th>\n",
       "      <th>lat</th>\n",
       "      <th>lon</th>\n",
       "      <th>h3_9</th>\n",
       "      <th>sub_cat_code_num</th>\n",
       "      <th>new_sub_cat_code</th>\n",
       "      <th>count</th>\n",
       "    </tr>\n",
       "  </thead>\n",
       "  <tbody>\n",
       "    <tr>\n",
       "      <th>2582459</th>\n",
       "      <td>721</td>\n",
       "      <td>[30.421268, 59.85265]</td>\n",
       "      <td>Дот оборонительного рубежа Ижора</td>\n",
       "      <td>https://spb.spravker.ru/muzei/dot-o-18-muzej-o...</td>\n",
       "      <td>/kultura-i-iskusstvo/</td>\n",
       "      <td>/botanicheskie-sady/</td>\n",
       "      <td>1034</td>\n",
       "      <td>59.852650</td>\n",
       "      <td>30.421268</td>\n",
       "      <td>89110600927ffff</td>\n",
       "      <td>1034</td>\n",
       "      <td>park</td>\n",
       "      <td>1</td>\n",
       "    </tr>\n",
       "    <tr>\n",
       "      <th>2582460</th>\n",
       "      <td>722</td>\n",
       "      <td>[30.277181, 59.917022]</td>\n",
       "      <td>Адмиралтейские верфи</td>\n",
       "      <td>https://spb.spravker.ru/muzei/muzei-admiraltei...</td>\n",
       "      <td>/kultura-i-iskusstvo/</td>\n",
       "      <td>/botanicheskie-sady/</td>\n",
       "      <td>1034</td>\n",
       "      <td>59.917022</td>\n",
       "      <td>30.277181</td>\n",
       "      <td>8911061599bffff</td>\n",
       "      <td>1034</td>\n",
       "      <td>park</td>\n",
       "      <td>1</td>\n",
       "    </tr>\n",
       "    <tr>\n",
       "      <th>2582461</th>\n",
       "      <td>723</td>\n",
       "      <td>[30.339204, 59.97724]</td>\n",
       "      <td>ФГБОУВО Санкт-Петербургский государственный пе...</td>\n",
       "      <td>https://spb.spravker.ru/org/muzej-spbgpmu.htm</td>\n",
       "      <td>/kultura-i-iskusstvo/</td>\n",
       "      <td>/botanicheskie-sady/</td>\n",
       "      <td>1034</td>\n",
       "      <td>59.977240</td>\n",
       "      <td>30.339204</td>\n",
       "      <td>891106a9287ffff</td>\n",
       "      <td>1034</td>\n",
       "      <td>park</td>\n",
       "      <td>1</td>\n",
       "    </tr>\n",
       "  </tbody>\n",
       "</table>\n",
       "</div>"
      ],
      "text/plain": [
       "         index             coordinates  \\\n",
       "2582459    721   [30.421268, 59.85265]   \n",
       "2582460    722  [30.277181, 59.917022]   \n",
       "2582461    723   [30.339204, 59.97724]   \n",
       "\n",
       "                                                      name  \\\n",
       "2582459                   Дот оборонительного рубежа Ижора   \n",
       "2582460                               Адмиралтейские верфи   \n",
       "2582461  ФГБОУВО Санкт-Петербургский государственный пе...   \n",
       "\n",
       "                                                      link  \\\n",
       "2582459  https://spb.spravker.ru/muzei/dot-o-18-muzej-o...   \n",
       "2582460  https://spb.spravker.ru/muzei/muzei-admiraltei...   \n",
       "2582461      https://spb.spravker.ru/org/muzej-spbgpmu.htm   \n",
       "\n",
       "                      category           subcategory  subcat_id        lat  \\\n",
       "2582459  /kultura-i-iskusstvo/  /botanicheskie-sady/       1034  59.852650   \n",
       "2582460  /kultura-i-iskusstvo/  /botanicheskie-sady/       1034  59.917022   \n",
       "2582461  /kultura-i-iskusstvo/  /botanicheskie-sady/       1034  59.977240   \n",
       "\n",
       "               lon             h3_9  sub_cat_code_num new_sub_cat_code  count  \n",
       "2582459  30.421268  89110600927ffff              1034             park      1  \n",
       "2582460  30.277181  8911061599bffff              1034             park      1  \n",
       "2582461  30.339204  891106a9287ffff              1034             park      1  "
      ]
     },
     "execution_count": 60,
     "metadata": {},
     "output_type": "execute_result"
    }
   ],
   "source": [
    "first_file[first_file['new_sub_cat_code']=='park'].head(3)"
   ]
  },
  {
   "cell_type": "code",
   "execution_count": 61,
   "metadata": {},
   "outputs": [],
   "source": [
    "parks=pd.read_csv('C:/Users/Asus/Downloads/Telegram Desktop/ПаркиКиО.csv',sep=',')\n",
    "parks['lat']=parks['Широта']\n",
    "parks['lon']=parks['Долгота']\n",
    "parks['link']=parks['2GIS URL']\n",
    "parks['category']='/kultura-i-iskusstvo/'\n",
    "parks['subcategory']='/botanicheskie-sady/'\n",
    "parks['new_sub_cat_code']='park'\n",
    "parks['subcat_id']=1034\n",
    "parks['h3_9']=list(map(lambda lat,lng:h3.latlng_to_cell(lat,lng,9),parks['lat'],parks['lon']))\n",
    "parks['name']=parks['Наименование']"
   ]
  },
  {
   "cell_type": "code",
   "execution_count": 62,
   "metadata": {},
   "outputs": [
    {
     "data": {
      "text/plain": [
       "Index(['Наименование', 'Описание', 'Рубрики', 'Адрес', 'Комментарий к адресу',\n",
       "       'Почтовый индекс', 'Микрорайон', 'Район', 'Город', 'Округ', 'Регион',\n",
       "       'Страна', 'Часы работы', 'Часовой пояс', 'Рейтинг',\n",
       "       'Количество отзывов', 'Телефон 1', 'Телефон 2', 'Телефон 3',\n",
       "       'Веб-сайт 1', 'Веб-сайт 2', 'Twitter', 'ВКонтакте', 'WhatsApp', 'Viber',\n",
       "       'Telegram', 'YouTube', 'Широта', 'Долгота', '2GIS URL', 'lat', 'lon',\n",
       "       'link', 'category', 'subcategory', 'new_sub_cat_code', 'subcat_id',\n",
       "       'h3_9', 'name'],\n",
       "      dtype='object')"
      ]
     },
     "execution_count": 62,
     "metadata": {},
     "output_type": "execute_result"
    }
   ],
   "source": [
    "parks.columns"
   ]
  },
  {
   "cell_type": "code",
   "execution_count": 63,
   "metadata": {},
   "outputs": [],
   "source": [
    "first_file=first_file.append(parks[['lat', 'lon',\n",
    "       'link', 'category', 'subcategory', 'new_sub_cat_code', 'subcat_id',\n",
    "       'h3_9', 'name']])"
   ]
  },
  {
   "cell_type": "code",
   "execution_count": 64,
   "metadata": {},
   "outputs": [
    {
     "data": {
      "text/html": [
       "<div>\n",
       "<style scoped>\n",
       "    .dataframe tbody tr th:only-of-type {\n",
       "        vertical-align: middle;\n",
       "    }\n",
       "\n",
       "    .dataframe tbody tr th {\n",
       "        vertical-align: top;\n",
       "    }\n",
       "\n",
       "    .dataframe thead th {\n",
       "        text-align: right;\n",
       "    }\n",
       "</style>\n",
       "<table border=\"1\" class=\"dataframe\">\n",
       "  <thead>\n",
       "    <tr style=\"text-align: right;\">\n",
       "      <th></th>\n",
       "      <th>index</th>\n",
       "      <th>coordinates</th>\n",
       "      <th>name</th>\n",
       "      <th>link</th>\n",
       "      <th>category</th>\n",
       "      <th>subcategory</th>\n",
       "      <th>subcat_id</th>\n",
       "      <th>lat</th>\n",
       "      <th>lon</th>\n",
       "      <th>h3_9</th>\n",
       "      <th>sub_cat_code_num</th>\n",
       "      <th>new_sub_cat_code</th>\n",
       "      <th>count</th>\n",
       "    </tr>\n",
       "  </thead>\n",
       "  <tbody>\n",
       "    <tr>\n",
       "      <th>0</th>\n",
       "      <td>0.0</td>\n",
       "      <td>[30.205252, 59.8616]</td>\n",
       "      <td>GPower</td>\n",
       "      <td>https://spb.spravker.ru/agzs/gpower-1.htm</td>\n",
       "      <td>/avto/</td>\n",
       "      <td>/agzs/</td>\n",
       "      <td>3</td>\n",
       "      <td>59.861600</td>\n",
       "      <td>30.205252</td>\n",
       "      <td>8911061503bffff</td>\n",
       "      <td>3.0</td>\n",
       "      <td>agzs or azs</td>\n",
       "      <td>1.0</td>\n",
       "    </tr>\n",
       "    <tr>\n",
       "      <th>1</th>\n",
       "      <td>1.0</td>\n",
       "      <td>[30.205848, 59.86133]</td>\n",
       "      <td>Global Gas</td>\n",
       "      <td>https://spb.spravker.ru/agzs/globalgas.htm</td>\n",
       "      <td>/avto/</td>\n",
       "      <td>/agzs/</td>\n",
       "      <td>3</td>\n",
       "      <td>59.861330</td>\n",
       "      <td>30.205848</td>\n",
       "      <td>8911061503bffff</td>\n",
       "      <td>3.0</td>\n",
       "      <td>agzs or azs</td>\n",
       "      <td>1.0</td>\n",
       "    </tr>\n",
       "    <tr>\n",
       "      <th>2</th>\n",
       "      <td>2.0</td>\n",
       "      <td>[30.246048, 59.877287]</td>\n",
       "      <td>Газпром газомоторное топливо</td>\n",
       "      <td>https://spb.spravker.ru/org/gazprom-transgaz2.htm</td>\n",
       "      <td>/avto/</td>\n",
       "      <td>/agzs/</td>\n",
       "      <td>3</td>\n",
       "      <td>59.877287</td>\n",
       "      <td>30.246048</td>\n",
       "      <td>89110615ec7ffff</td>\n",
       "      <td>3.0</td>\n",
       "      <td>agzs or azs</td>\n",
       "      <td>1.0</td>\n",
       "    </tr>\n",
       "    <tr>\n",
       "      <th>3</th>\n",
       "      <td>3.0</td>\n",
       "      <td>[30.164843, 59.805513]</td>\n",
       "      <td>ВиГаз</td>\n",
       "      <td>https://spb.spravker.ru/agzs/vigaz.htm</td>\n",
       "      <td>/avto/</td>\n",
       "      <td>/agzs/</td>\n",
       "      <td>3</td>\n",
       "      <td>59.805513</td>\n",
       "      <td>30.164843</td>\n",
       "      <td>89110602483ffff</td>\n",
       "      <td>3.0</td>\n",
       "      <td>agzs or azs</td>\n",
       "      <td>1.0</td>\n",
       "    </tr>\n",
       "    <tr>\n",
       "      <th>4</th>\n",
       "      <td>4.0</td>\n",
       "      <td>[30.168601, 59.811463]</td>\n",
       "      <td>РосГаз</td>\n",
       "      <td>https://spb.spravker.ru/org/rosgaz12.htm</td>\n",
       "      <td>/avto/</td>\n",
       "      <td>/agzs/</td>\n",
       "      <td>3</td>\n",
       "      <td>59.811463</td>\n",
       "      <td>30.168601</td>\n",
       "      <td>891106024b3ffff</td>\n",
       "      <td>3.0</td>\n",
       "      <td>agzs or azs</td>\n",
       "      <td>1.0</td>\n",
       "    </tr>\n",
       "    <tr>\n",
       "      <th>...</th>\n",
       "      <td>...</td>\n",
       "      <td>...</td>\n",
       "      <td>...</td>\n",
       "      <td>...</td>\n",
       "      <td>...</td>\n",
       "      <td>...</td>\n",
       "      <td>...</td>\n",
       "      <td>...</td>\n",
       "      <td>...</td>\n",
       "      <td>...</td>\n",
       "      <td>...</td>\n",
       "      <td>...</td>\n",
       "      <td>...</td>\n",
       "    </tr>\n",
       "    <tr>\n",
       "      <th>104</th>\n",
       "      <td>NaN</td>\n",
       "      <td>NaN</td>\n",
       "      <td>Павловск</td>\n",
       "      <td>https://2gis.com/firm/70000001057303155</td>\n",
       "      <td>/kultura-i-iskusstvo/</td>\n",
       "      <td>/botanicheskie-sady/</td>\n",
       "      <td>1034</td>\n",
       "      <td>59.688338</td>\n",
       "      <td>30.487851</td>\n",
       "      <td>89110608eb3ffff</td>\n",
       "      <td>NaN</td>\n",
       "      <td>park</td>\n",
       "      <td>NaN</td>\n",
       "    </tr>\n",
       "    <tr>\n",
       "      <th>105</th>\n",
       "      <td>NaN</td>\n",
       "      <td>NaN</td>\n",
       "      <td>Сад воды и холмов</td>\n",
       "      <td>https://2gis.com/firm/70000001064591832</td>\n",
       "      <td>/kultura-i-iskusstvo/</td>\n",
       "      <td>/botanicheskie-sady/</td>\n",
       "      <td>1034</td>\n",
       "      <td>60.246545</td>\n",
       "      <td>30.392673</td>\n",
       "      <td>891106a536fffff</td>\n",
       "      <td>NaN</td>\n",
       "      <td>park</td>\n",
       "      <td>NaN</td>\n",
       "    </tr>\n",
       "    <tr>\n",
       "      <th>106</th>\n",
       "      <td>NaN</td>\n",
       "      <td>NaN</td>\n",
       "      <td>Парк культуры и отдыха</td>\n",
       "      <td>https://2gis.com/firm/70000001062684743</td>\n",
       "      <td>/kultura-i-iskusstvo/</td>\n",
       "      <td>/botanicheskie-sady/</td>\n",
       "      <td>1034</td>\n",
       "      <td>59.885362</td>\n",
       "      <td>30.985420</td>\n",
       "      <td>8911062957bffff</td>\n",
       "      <td>NaN</td>\n",
       "      <td>park</td>\n",
       "      <td>NaN</td>\n",
       "    </tr>\n",
       "    <tr>\n",
       "      <th>107</th>\n",
       "      <td>NaN</td>\n",
       "      <td>NaN</td>\n",
       "      <td>Парк культуры и отдыха</td>\n",
       "      <td>https://2gis.com/firm/70000001062602593</td>\n",
       "      <td>/kultura-i-iskusstvo/</td>\n",
       "      <td>/botanicheskie-sady/</td>\n",
       "      <td>1034</td>\n",
       "      <td>59.887528</td>\n",
       "      <td>30.987161</td>\n",
       "      <td>89110629563ffff</td>\n",
       "      <td>NaN</td>\n",
       "      <td>park</td>\n",
       "      <td>NaN</td>\n",
       "    </tr>\n",
       "    <tr>\n",
       "      <th>108</th>\n",
       "      <td>NaN</td>\n",
       "      <td>NaN</td>\n",
       "      <td>Дворцовый парк</td>\n",
       "      <td>https://2gis.com/firm/70000001079640168</td>\n",
       "      <td>/kultura-i-iskusstvo/</td>\n",
       "      <td>/botanicheskie-sady/</td>\n",
       "      <td>1034</td>\n",
       "      <td>59.566208</td>\n",
       "      <td>30.108697</td>\n",
       "      <td>891106cc88fffff</td>\n",
       "      <td>NaN</td>\n",
       "      <td>park</td>\n",
       "      <td>NaN</td>\n",
       "    </tr>\n",
       "  </tbody>\n",
       "</table>\n",
       "<p>3326794 rows × 13 columns</p>\n",
       "</div>"
      ],
      "text/plain": [
       "     index             coordinates                          name  \\\n",
       "0      0.0    [30.205252, 59.8616]                        GPower   \n",
       "1      1.0   [30.205848, 59.86133]                    Global Gas   \n",
       "2      2.0  [30.246048, 59.877287]  Газпром газомоторное топливо   \n",
       "3      3.0  [30.164843, 59.805513]                         ВиГаз   \n",
       "4      4.0  [30.168601, 59.811463]                        РосГаз   \n",
       "..     ...                     ...                           ...   \n",
       "104    NaN                     NaN                      Павловск   \n",
       "105    NaN                     NaN             Сад воды и холмов   \n",
       "106    NaN                     NaN        Парк культуры и отдыха   \n",
       "107    NaN                     NaN        Парк культуры и отдыха   \n",
       "108    NaN                     NaN                Дворцовый парк   \n",
       "\n",
       "                                                  link               category  \\\n",
       "0            https://spb.spravker.ru/agzs/gpower-1.htm                 /avto/   \n",
       "1           https://spb.spravker.ru/agzs/globalgas.htm                 /avto/   \n",
       "2    https://spb.spravker.ru/org/gazprom-transgaz2.htm                 /avto/   \n",
       "3               https://spb.spravker.ru/agzs/vigaz.htm                 /avto/   \n",
       "4             https://spb.spravker.ru/org/rosgaz12.htm                 /avto/   \n",
       "..                                                 ...                    ...   \n",
       "104            https://2gis.com/firm/70000001057303155  /kultura-i-iskusstvo/   \n",
       "105            https://2gis.com/firm/70000001064591832  /kultura-i-iskusstvo/   \n",
       "106            https://2gis.com/firm/70000001062684743  /kultura-i-iskusstvo/   \n",
       "107            https://2gis.com/firm/70000001062602593  /kultura-i-iskusstvo/   \n",
       "108            https://2gis.com/firm/70000001079640168  /kultura-i-iskusstvo/   \n",
       "\n",
       "              subcategory  subcat_id        lat        lon             h3_9  \\\n",
       "0                  /agzs/          3  59.861600  30.205252  8911061503bffff   \n",
       "1                  /agzs/          3  59.861330  30.205848  8911061503bffff   \n",
       "2                  /agzs/          3  59.877287  30.246048  89110615ec7ffff   \n",
       "3                  /agzs/          3  59.805513  30.164843  89110602483ffff   \n",
       "4                  /agzs/          3  59.811463  30.168601  891106024b3ffff   \n",
       "..                    ...        ...        ...        ...              ...   \n",
       "104  /botanicheskie-sady/       1034  59.688338  30.487851  89110608eb3ffff   \n",
       "105  /botanicheskie-sady/       1034  60.246545  30.392673  891106a536fffff   \n",
       "106  /botanicheskie-sady/       1034  59.885362  30.985420  8911062957bffff   \n",
       "107  /botanicheskie-sady/       1034  59.887528  30.987161  89110629563ffff   \n",
       "108  /botanicheskie-sady/       1034  59.566208  30.108697  891106cc88fffff   \n",
       "\n",
       "     sub_cat_code_num new_sub_cat_code  count  \n",
       "0                 3.0      agzs or azs    1.0  \n",
       "1                 3.0      agzs or azs    1.0  \n",
       "2                 3.0      agzs or azs    1.0  \n",
       "3                 3.0      agzs or azs    1.0  \n",
       "4                 3.0      agzs or azs    1.0  \n",
       "..                ...              ...    ...  \n",
       "104               NaN             park    NaN  \n",
       "105               NaN             park    NaN  \n",
       "106               NaN             park    NaN  \n",
       "107               NaN             park    NaN  \n",
       "108               NaN             park    NaN  \n",
       "\n",
       "[3326794 rows x 13 columns]"
      ]
     },
     "execution_count": 64,
     "metadata": {},
     "output_type": "execute_result"
    }
   ],
   "source": [
    "first_file"
   ]
  },
  {
   "cell_type": "code",
   "execution_count": 65,
   "metadata": {},
   "outputs": [],
   "source": [
    "first_file.to_csv('C:/Users/Asus/Downloads/Telegram Desktop/full_POIs.csv',sep=';',encoding='UTF8')"
   ]
  },
  {
   "cell_type": "markdown",
   "metadata": {},
   "source": []
  }
 ],
 "metadata": {
  "kernelspec": {
   "display_name": "Python 3",
   "language": "python",
   "name": "python3"
  },
  "language_info": {
   "codemirror_mode": {
    "name": "ipython",
    "version": 3
   },
   "file_extension": ".py",
   "mimetype": "text/x-python",
   "name": "python",
   "nbconvert_exporter": "python",
   "pygments_lexer": "ipython3",
   "version": "3.7.9"
  }
 },
 "nbformat": 4,
 "nbformat_minor": 2
}
